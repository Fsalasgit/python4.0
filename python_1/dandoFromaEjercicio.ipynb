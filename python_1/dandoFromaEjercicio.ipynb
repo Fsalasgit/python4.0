{
 "cells": [
  {
   "cell_type": "code",
   "execution_count": 26,
   "metadata": {},
   "outputs": [
    {
     "name": "stdout",
     "output_type": "stream",
     "text": [
      "Los valores obtenidos de la temperatura son: \n",
      "Mínimo: 20.229\n",
      "Máximo: 28.873\n",
      "Promedio: 24.096\n",
      "\n",
      "Sensores OK = 21\n",
      "Sensor fallando = 19\n",
      "\n"
     ]
    }
   ],
   "source": [
    "\n",
    "'''\n",
    "    Ejercicio 1:\n",
    "\n",
    "    Dada una lista de temperaturas registradas en diferentes momentos del día, encontrar la temperatura mínima, máxima y promedio.\n",
    "    Redondear las respuestas a 3 decimales.  Pueden usar round(valor , cantidadDecimales)\n",
    "'''\n",
    "\n",
    "\n",
    "temperaturas = [26.75431352056954, 21.991086464852872, 27.209759257701366, 23.443668324912598, 28.8725217962772, 20.731695645337763, 22.58962536117254, 24.846285051127114, 26.074481791289337, 22.085936681499903, 23.913576519730877, 27.678759112104154, 24.381354548084965, 23.19239923228099, 20.803472013144523, 21.30390306534694, 27.102859960400624, 23.763191774421054, 25.157825319899203, 20.2290281340311, 26.746902019682647, 22.750408458130667, 20.26298637657635, 26.423788201931604]\n",
    "\n",
    "valorMax = round(max(temperaturas),3)\n",
    "\n",
    "valorMin = round(min(temperaturas),3)\n",
    "\n",
    "valorMedio = round(sum(temperaturas)/len(temperaturas),3) \n",
    "\n",
    "print(f'''Los valores obtenidos de la temperatura son: \n",
    "Mínimo: {valorMin}\n",
    "Máximo: {valorMax}\n",
    "Promedio: {valorMedio}\n",
    "''')\n",
    "\n",
    "'''\n",
    "    Ejercicio 2:\n",
    "\n",
    "    Dada una lista que contiene el estado (correcto o error) de múltiples sensores, contar la cantidad de sensores en estado de error.\n",
    "    True = Error, False = Todo OK.\n",
    "'''\n",
    "estadoSensores = [True, True, True, False, False, False, True, False, True, False, False, True, True, False, False, True, False, False, False, True,True, False, False, False, True, True, True, False, True, True, True, False, False, True, False, False, False, True,True, False]\n",
    "\n",
    "sensorError = estadoSensores.count(True)\n",
    "sensorOK = estadoSensores.count(False)\n",
    "\n",
    "print(f'''Sensores OK = {sensorOK}\n",
    "Sensor fallando = {sensorError}\n",
    "''')"
   ]
  },
  {
   "cell_type": "code",
   "execution_count": 4,
   "metadata": {},
   "outputs": [
    {
     "data": {
      "text/plain": [
       "28.873"
      ]
     },
     "execution_count": 4,
     "metadata": {},
     "output_type": "execute_result"
    }
   ],
   "source": [
    "round(max(temperaturas),3)"
   ]
  },
  {
   "cell_type": "code",
   "execution_count": 5,
   "metadata": {},
   "outputs": [
    {
     "data": {
      "text/plain": [
       "20.229"
      ]
     },
     "execution_count": 5,
     "metadata": {},
     "output_type": "execute_result"
    }
   ],
   "source": [
    "round(min(temperaturas),3)"
   ]
  },
  {
   "cell_type": "code",
   "execution_count": 6,
   "metadata": {},
   "outputs": [
    {
     "data": {
      "text/plain": [
       "24.096"
      ]
     },
     "execution_count": 6,
     "metadata": {},
     "output_type": "execute_result"
    }
   ],
   "source": [
    "round(sum(temperaturas)/len(temperaturas),3)"
   ]
  },
  {
   "cell_type": "code",
   "execution_count": 7,
   "metadata": {},
   "outputs": [],
   "source": [
    "estadoSensores = [True, True, True, False, False, False, True, False, True, False, False, True, True, False, False, True, False, False, False, True,True, False, False, False, True, True, True, False, True, True, True, False, False, True, False, False, False, True,True, False]"
   ]
  },
  {
   "cell_type": "code",
   "execution_count": 8,
   "metadata": {},
   "outputs": [
    {
     "data": {
      "text/plain": [
       "19"
      ]
     },
     "execution_count": 8,
     "metadata": {},
     "output_type": "execute_result"
    }
   ],
   "source": [
    "estadoSensores.count(True)"
   ]
  },
  {
   "cell_type": "code",
   "execution_count": 9,
   "metadata": {},
   "outputs": [
    {
     "data": {
      "text/plain": [
       "21"
      ]
     },
     "execution_count": 9,
     "metadata": {},
     "output_type": "execute_result"
    }
   ],
   "source": [
    "estadoSensores.count(False)"
   ]
  },
  {
   "cell_type": "code",
   "execution_count": 10,
   "metadata": {},
   "outputs": [
    {
     "data": {
      "text/plain": [
       "40"
      ]
     },
     "execution_count": 10,
     "metadata": {},
     "output_type": "execute_result"
    }
   ],
   "source": [
    "len(estadoSensores)"
   ]
  },
  {
   "cell_type": "code",
   "execution_count": 11,
   "metadata": {},
   "outputs": [
    {
     "data": {
      "text/plain": [
       "40"
      ]
     },
     "execution_count": 11,
     "metadata": {},
     "output_type": "execute_result"
    }
   ],
   "source": []
  }
 ],
 "metadata": {
  "kernelspec": {
   "display_name": "Python 3",
   "language": "python",
   "name": "python3"
  },
  "language_info": {
   "codemirror_mode": {
    "name": "ipython",
    "version": 3
   },
   "file_extension": ".py",
   "mimetype": "text/x-python",
   "name": "python",
   "nbconvert_exporter": "python",
   "pygments_lexer": "ipython3",
   "version": "3.11.9"
  }
 },
 "nbformat": 4,
 "nbformat_minor": 2
}
