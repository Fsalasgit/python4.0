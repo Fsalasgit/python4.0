{
 "cells": [
  {
   "cell_type": "code",
   "execution_count": 22,
   "metadata": {},
   "outputs": [],
   "source": [
    "#Creacion de clase (Plantilla)\n",
    "class Motor:\n",
    "    #Definición de atributos\n",
    "    tipo_motor = \"Eléctrico\" #Atributo de clase, es decir que todos van a ser iguales\n",
    "    def __init__(self, potencia, voltaje, fabricante): #Parametro self define su propio objeto (Puede tener otro nomber, pero por convencion se recomienda usar el self)\n",
    "        self.potencia = potencia\n",
    "        self.voltaje = voltaje\n",
    "        self.fabricante = fabricante\n",
    "        self.velocidad = 0 #\n",
    "        self.caracteristicas = \"Trifásico\"\n",
    "    \n",
    "    def arrancar(self):\n",
    "        print(\"El motor está en marcha\")\n",
    "        self.velocidad = 1500\n",
    "\n",
    "    def parar(self):\n",
    "        print(\"El motor está detenido\")\n",
    "        self.velocidad = 0"
   ]
  },
  {
   "cell_type": "code",
   "execution_count": 23,
   "metadata": {},
   "outputs": [],
   "source": [
    "motorCinta = Motor(\n",
    "    potencia=0.5,\n",
    "    voltaje=220,\n",
    "    fabricante=\"Siemens\"\n",
    ")\n",
    "\n",
    "motorMixer = Motor(\n",
    "    potencia=10,\n",
    "    voltaje=380,\n",
    "    fabricante=\"SEW\"\n",
    ")"
   ]
  },
  {
   "cell_type": "code",
   "execution_count": 24,
   "metadata": {},
   "outputs": [
    {
     "name": "stdout",
     "output_type": "stream",
     "text": [
      "La velocidad de la cinta es: 0 RPM y la de la mixer es 0 RPM\n",
      "La velocidad de la cinta es: 1500 RPM y la de la mixer es 0 RPM\n"
     ]
    }
   ],
   "source": [
    "print(f'La velocidad de la cinta es: {motorCinta.velocidad} RPM y la de la mixer es {motorMixer.velocidad} RPM')\n",
    "motorCinta.velocidad = 1500\n",
    "print(f'La velocidad de la cinta es: {motorCinta.velocidad} RPM y la de la mixer es {motorMixer.velocidad} RPM')"
   ]
  },
  {
   "cell_type": "code",
   "execution_count": 25,
   "metadata": {},
   "outputs": [
    {
     "name": "stdout",
     "output_type": "stream",
     "text": [
      "El motor está detenido\n",
      "La velocidad de la cinta es: 0 RPM y la de la mixer es 0 RPM\n",
      "El motor está en marcha\n",
      "La velocidad de la cinta es: 1500 RPM y la de la mixer es 0 RPM\n"
     ]
    }
   ],
   "source": [
    "motorCinta.parar()\n",
    "print(f'La velocidad de la cinta es: {motorCinta.velocidad} RPM y la de la mixer es {motorMixer.velocidad} RPM')\n",
    "motorCinta.arrancar()\n",
    "print(f'La velocidad de la cinta es: {motorCinta.velocidad} RPM y la de la mixer es {motorMixer.velocidad} RPM')"
   ]
  },
  {
   "cell_type": "code",
   "execution_count": null,
   "metadata": {},
   "outputs": [],
   "source": [
    "motorCinta.arrancar()\n",
    "print(f'La velocidad de la cinta es: {motorCinta.velocidad} RPM y la de la mixer es {motorMixer.velocidad} RPM')"
   ]
  },
  {
   "cell_type": "markdown",
   "metadata": {},
   "source": [
    "<h2>Herencia</h2>"
   ]
  },
  {
   "cell_type": "code",
   "execution_count": 35,
   "metadata": {},
   "outputs": [],
   "source": [
    "class Servo(Motor):\n",
    "    def __init__(self, potencia, voltaje, fabricante):\n",
    "        super(). __init__ (potencia, voltaje, fabricante)\n",
    "        self.posicion = 0"
   ]
  },
  {
   "cell_type": "code",
   "execution_count": 36,
   "metadata": {},
   "outputs": [
    {
     "name": "stdout",
     "output_type": "stream",
     "text": [
      "La velocidad del brazo posicionado es: 0 RPM\n",
      "El motor está en marcha\n",
      "La velocidad del brazo posicionado es: 1500 RPM\n"
     ]
    }
   ],
   "source": [
    "BrazoPosicionador = Servo(potencia=5, voltaje=380, fabricante=\"SEW\")\n",
    "print(f'La velocidad del brazo posicionado es: {BrazoPosicionador.velocidad} RPM')\n",
    "BrazoPosicionador.arrancar()\n",
    "print(f'La velocidad del brazo posicionado es: {BrazoPosicionador.velocidad} RPM')"
   ]
  },
  {
   "cell_type": "code",
   "execution_count": 39,
   "metadata": {},
   "outputs": [
    {
     "name": "stdout",
     "output_type": "stream",
     "text": [
      "0\n",
      "50\n"
     ]
    }
   ],
   "source": [
    "print(BrazoPosicionador.posicion)\n",
    "BrazoPosicionador.posicion = 50\n",
    "print(BrazoPosicionador.posicion)"
   ]
  },
  {
   "cell_type": "markdown",
   "metadata": {},
   "source": [
    "<h2>Interaccion entre objetos</h3>\n"
   ]
  },
  {
   "cell_type": "code",
   "execution_count": 41,
   "metadata": {},
   "outputs": [],
   "source": [
    "#El guarda motor es un protecto que cuando se dispara apaga el motor por completo\n",
    "class GuardaMotor:\n",
    "    def __init__(self, estado, motorAProteger: Motor) :\n",
    "        self.estado = estado\n",
    "        self.motorAProteger = motorAProteger\n",
    "\n",
    "    def activarProteccion(self):\n",
    "        self.estado = True\n",
    "        self.motorAProteger.parar()\n",
    "\n",
    "    def desactivarProteccion(self):\n",
    "        self.estado = False\n"
   ]
  },
  {
   "cell_type": "code",
   "execution_count": 42,
   "metadata": {},
   "outputs": [],
   "source": [
    "Q1 = GuardaMotor(False, motorCinta)"
   ]
  },
  {
   "cell_type": "code",
   "execution_count": 45,
   "metadata": {},
   "outputs": [
    {
     "name": "stdout",
     "output_type": "stream",
     "text": [
      "El motor está en marcha\n",
      "Velocidad del motor: 1500 RPM\n",
      "El motor está detenido\n",
      "Velocidad del motor: 0 RPM\n"
     ]
    }
   ],
   "source": [
    "motorCinta.arrancar()\n",
    "print(F'Velocidad del motor: {motorCinta.velocidad} RPM')\n",
    "Q1.activarProteccion()\n",
    "print(F'Velocidad del motor: {motorCinta.velocidad} RPM')"
   ]
  }
 ],
 "metadata": {
  "kernelspec": {
   "display_name": "Python 3",
   "language": "python",
   "name": "python3"
  },
  "language_info": {
   "codemirror_mode": {
    "name": "ipython",
    "version": 3
   },
   "file_extension": ".py",
   "mimetype": "text/x-python",
   "name": "python",
   "nbconvert_exporter": "python",
   "pygments_lexer": "ipython3",
   "version": "3.11.9"
  }
 },
 "nbformat": 4,
 "nbformat_minor": 2
}
