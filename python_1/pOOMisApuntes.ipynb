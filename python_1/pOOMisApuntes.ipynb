{
 "cells": [
  {
   "cell_type": "markdown",
   "metadata": {},
   "source": [
    "# Introducción a OOP con Python\n",
    "\n",
    "## Conceptos Básicos\n",
    "La Programación Orientada a Objetos (OOP) es un paradigma de programación que utiliza \"objetos\" y sus interacciones para diseñar aplicaciones y programas informáticos. Los objetos son instancias de clases, que pueden contener datos y métodos para manipular esos datos.\n",
    "\n",
    "### Clase\n",
    "Una **clase** es una plantilla para crear objetos. Define un conjunto de atributos y métodos que los objetos creados a partir de la clase tendrán. En Python, una clase se define utilizando la palabra clave `class`.\n",
    "\n",
    "```python\n",
    "class Tanque:\n",
    "    def __init__(self, diametro=1.0, altura=1.0):\n",
    "        self.diametro = diametro\n",
    "        self.altura = altura\n",
    "        self.valvulas = []\n",
    "        self.nivelActual = 0\n",
    "        self.caudal = 0\n",
    "        self.volumenActual = 0\n",
    "\n",
    "\n"
   ]
  },
  {
   "cell_type": "markdown",
   "metadata": {},
   "source": [
    "### Objeto\n",
    "Un objeto es una instancia de una clase. Representa una entidad concreta y posee atributos (estado) y métodos (comportamiento) definidos por su clase.\n",
    "\n",
    "```python\n",
    "mi_tanque = Tanque()\n",
    "print(mi_tanque.diametro)  # Output: 1.0\n"
   ]
  },
  {
   "cell_type": "markdown",
   "metadata": {},
   "source": [
    "### Método\n",
    "Un método es una función definida dentro de una clase que describe el comportamiento de los objetos de esa clase.\n",
    "\n",
    "```python\n",
    "class Tanque:\n",
    "    def __init__(self, diametro=1.0, altura=1.0):\n",
    "        self.diametro = diametro\n",
    "        self.altura = altura\n",
    "        self.valvulas = []\n",
    "        self.nivelActual = 0\n",
    "        self.caudal = 0\n",
    "        self.volumenActual = 0\n",
    "\n",
    "    def calcularNivel(self):\n",
    "        pass  # Método vacío\n"
   ]
  },
  {
   "cell_type": "markdown",
   "metadata": {},
   "source": [
    "# Características de OOP\n",
    "\n",
    "\n",
    "## Encapsulación\n",
    "La encapsulación es el proceso de ocultar los detalles internos de un objeto y permitir el acceso solo a través de métodos públicos. Esto ayuda a proteger los datos y a evitar que se manipulen directamente desde fuera de la clase.\n",
    "\n",
    "```python\n",
    "class Tanque:\n",
    "    def __init__(self, diametro=1.0, altura=1.0):\n",
    "        self._diametro = diametro  # Atributo \"privado\"\n",
    "        self._altura = altura\n",
    "        self._nivelActual = 0\n",
    "        self._caudal = 0\n",
    "        self._volumenActual = 0\n",
    "\n",
    "    def get_diametro(self):\n",
    "        return self._diametro\n",
    "\n",
    "    def set_diametro(self, diametro):\n",
    "        self._diametro = diametro\n",
    "\n",
    "\n",
    "\n"
   ]
  },
  {
   "cell_type": "markdown",
   "metadata": {},
   "source": [
    "### Herencia\n",
    "La herencia permite crear una nueva clase a partir de una clase existente, heredando sus atributos y métodos. Esto facilita la reutilización de código y la creación de jerarquías de clases.\n",
    "\n",
    "```python\n",
    "class TanqueAvanzado(Tanque):\n",
    "    def __init__(self, diametro=1.0, altura=1.0, material='Acero'):\n",
    "        super().__init__(diametro, altura)\n",
    "        self.material = material\n",
    "\n"
   ]
  },
  {
   "cell_type": "markdown",
   "metadata": {},
   "source": [
    "### Polimorfismo\n",
    "El polimorfismo permite tratar objetos de diferentes clases de la misma manera a través de una interfaz común. Esto se logra mediante métodos que pueden ser redefinidos en clases derivadas.\n",
    "\n",
    "```python\n",
    "class Valvula:\n",
    "    def __init__(self, tipo=\"E\", caudal=1.0):\n",
    "        self.tipo = tipo\n",
    "        self.caudal = caudal\n",
    "        self.caudalActual = 0\n",
    "\n",
    "    def abrirValvula(self):\n",
    "        self.caudalActual = self.caudal if self.tipo == \"E\" else -self.caudal\n",
    "\n",
    "    def cerrarValvula(self):\n",
    "        self.caudalActual = 0\n",
    "\n",
    "valvula1 = Valvula(tipo=\"E\", caudal=2.0)\n",
    "valvula2 = Valvula(tipo=\"S\", caudal=1.5)\n",
    "\n",
    "valvulas = [valvula1, valvula2]\n",
    "for valvula in valvulas:\n",
    "    valvula.abrirValvula()\n",
    "    print(valvula.caudalActual)\n",
    "\n"
   ]
  }
 ],
 "metadata": {
  "language_info": {
   "name": "python"
  }
 },
 "nbformat": 4,
 "nbformat_minor": 2
}
