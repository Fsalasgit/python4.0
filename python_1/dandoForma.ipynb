{
 "cells": [
  {
   "cell_type": "markdown",
   "metadata": {},
   "source": [
    "<h2>Resumen de Listas en Python</h2>\n",
    "\n",
    "<h3>1. Definición:</h3>\n",
    "<p>Una lista en Python es una colección de elementos ordenados y modificables. Las listas permiten almacenar elementos de diferentes tipos, como números, cadenas y otras listas.</p>\n",
    "\n",
    "<h3>2. Creación de Listas:</h3>\n",
    "<p>Puedes crear una lista usando corchetes <code>[]</code>, con elementos separados por comas.</p>\n",
    "<pre><code>mi_lista = [1, 2, 3, 4, 5]</code></pre>\n",
    "\n",
    "<h3>3. Indexación:</h3>\n",
    "<p>Las listas utilizan un índice basado en cero. El primer elemento tiene el índice 0, el segundo elemento tiene el índice 1, y así sucesivamente.</p>\n",
    "<pre><code>mi_lista[0]  # Devuelve 1\n",
    "mi_lista[2]  # Devuelve 3</code></pre>\n",
    "\n",
    "<h3>4. Slicing:</h3>\n",
    "<p>Puedes obtener una sublista usando el operador de corte <code>[:]</code>.</p>\n",
    "<pre><code>mi_lista[1:4]  # Devuelve [2, 3, 4]</code></pre>\n",
    "\n",
    "<h3>5. Modificación de Elementos:</h3>\n",
    "<p>Puedes cambiar el valor de un elemento en una lista mediante su índice.</p>\n",
    "<pre><code>mi_lista[1] = 10  # mi_lista ahora es [1, 10, 3, 4, 5]</code></pre>\n",
    "\n",
    "<h3>6. Métodos Comunes:</h3>\n",
    "<ul>\n",
    "  <li><code>append(elemento)</code>: Agrega un elemento al final de la lista.</li>\n",
    "  <li><code>extend(lista)</code>: Agrega todos los elementos de otra lista al final de la lista actual.</li>\n",
    "  <li><code>insert(indice, elemento)</code>: Inserta un elemento en una posición específica.</li>\n",
    "  <li><code>remove(elemento)</code>: Elimina el primer elemento con el valor especificado.</li>\n",
    "  <li><code>pop(indice)</code>: Elimina y devuelve el elemento en el índice especificado.</li>\n",
    "  <li><code>sort()</code>: Ordena los elementos de la lista.</li>\n",
    "  <li><code>reverse()</code>: Invierte el orden de los elementos en la lista.</li>\n",
    "</ul>\n"
   ]
  },
  {
   "cell_type": "code",
   "execution_count": 3,
   "metadata": {},
   "outputs": [
    {
     "name": "stdout",
     "output_type": "stream",
     "text": [
      "[['sensor1', 'Sala de máquinas', 22.5], ['sensor2', 'Área de producción', 28.5], ['sensor3', 'Almacén de productos', 33.5]]\n"
     ]
    }
   ],
   "source": [
    "sensores_temperaturas = [\n",
    "    [\"sensor1\", \"Sala de máquinas\", 22.5],\n",
    "    [\"sensor2\", \"Área de producción\", 28.5],\n",
    "    [\"sensor3\", \"Almacén de productos\", 33.5]\n",
    "]\n",
    "\n",
    "print(sensores_temperaturas)"
   ]
  },
  {
   "cell_type": "markdown",
   "metadata": {},
   "source": [
    "<h2>Accediendo a los elementos</h2>"
   ]
  },
  {
   "cell_type": "code",
   "execution_count": 4,
   "metadata": {},
   "outputs": [
    {
     "data": {
      "text/plain": [
       "28.5"
      ]
     },
     "execution_count": 4,
     "metadata": {},
     "output_type": "execute_result"
    }
   ],
   "source": [
    "sensores_temperaturas[1][2]"
   ]
  },
  {
   "cell_type": "code",
   "execution_count": 6,
   "metadata": {},
   "outputs": [
    {
     "name": "stdout",
     "output_type": "stream",
     "text": [
      "neptuno\n",
      "plutón\n"
     ]
    }
   ],
   "source": [
    "planetas = [\"mercurio\", \"venus\", \"tierra\",\"marte\", \"jupiter\",\"saturno\",\"urano\", \"neptuno\"]\n",
    "print(planetas[-1]) #Accediendo al ultimo elemento\n",
    "planetas.append(\"plutón\")\n",
    "print(planetas[-1])"
   ]
  },
  {
   "cell_type": "code",
   "execution_count": 10,
   "metadata": {},
   "outputs": [
    {
     "name": "stdout",
     "output_type": "stream",
     "text": [
      "['mercurio', 'venus', 'tierra', 'marte', 'jupiter']\n",
      "['mercurio', 'venus', 'tierra']\n",
      "['neptuno', 'plutón']\n"
     ]
    }
   ],
   "source": [
    "#slicing\n",
    "print(planetas[0:5]) \n",
    "print(planetas[:3]) #Toma por default 0\n",
    "print(planetas[-2:]) #Toma por default 0"
   ]
  },
  {
   "cell_type": "code",
   "execution_count": 11,
   "metadata": {},
   "outputs": [
    {
     "name": "stdout",
     "output_type": "stream",
     "text": [
      "28.5\n",
      "3\n"
     ]
    }
   ],
   "source": [
    "#Las listas son mutables\n",
    "print(sensores_temperaturas[1][2])\n",
    "sensores_temperaturas[1][2] = 3\n",
    "print(sensores_temperaturas[1][2])"
   ]
  },
  {
   "cell_type": "markdown",
   "metadata": {},
   "source": [
    "<h2>Funciones de una listas</h2>"
   ]
  },
  {
   "cell_type": "code",
   "execution_count": 12,
   "metadata": {},
   "outputs": [
    {
     "data": {
      "text/plain": [
       "9"
      ]
     },
     "execution_count": 12,
     "metadata": {},
     "output_type": "execute_result"
    }
   ],
   "source": [
    "len(planetas)"
   ]
  },
  {
   "cell_type": "code",
   "execution_count": 13,
   "metadata": {},
   "outputs": [
    {
     "data": {
      "text/plain": [
       "['jupiter',\n",
       " 'marte',\n",
       " 'mercurio',\n",
       " 'neptuno',\n",
       " 'plutón',\n",
       " 'saturno',\n",
       " 'tierra',\n",
       " 'urano',\n",
       " 'venus']"
      ]
     },
     "execution_count": 13,
     "metadata": {},
     "output_type": "execute_result"
    }
   ],
   "source": [
    "sorted(planetas)"
   ]
  },
  {
   "cell_type": "code",
   "execution_count": 31,
   "metadata": {},
   "outputs": [
    {
     "data": {
      "text/plain": [
       "45"
      ]
     },
     "execution_count": 31,
     "metadata": {},
     "output_type": "execute_result"
    }
   ],
   "source": [
    "numeros = [1,2,3,4,5,6,7,8,9]\n",
    "sum(numeros)"
   ]
  },
  {
   "cell_type": "code",
   "execution_count": 32,
   "metadata": {},
   "outputs": [
    {
     "data": {
      "text/plain": [
       "[1, 2, 3, 4, 5, 6, 7, 8, 9, 55]"
      ]
     },
     "execution_count": 32,
     "metadata": {},
     "output_type": "execute_result"
    }
   ],
   "source": [
    "numeros.append(55)\n",
    "numeros"
   ]
  },
  {
   "cell_type": "code",
   "execution_count": 33,
   "metadata": {},
   "outputs": [
    {
     "data": {
      "text/plain": [
       "[1, 2, 3, 4, 5, 6, 7, 8, 9]"
      ]
     },
     "execution_count": 33,
     "metadata": {},
     "output_type": "execute_result"
    }
   ],
   "source": [
    "numeros.pop()\n",
    "numeros"
   ]
  },
  {
   "cell_type": "code",
   "execution_count": 34,
   "metadata": {},
   "outputs": [
    {
     "name": "stdout",
     "output_type": "stream",
     "text": [
      "[1, 2, 3, 2.5, 4, 5, 6, 7, 8, 9]\n",
      "[1, 2, 3, 4, 5, 6, 7, 8, 9]\n",
      "[1, 2, 3, 10, 4, 5, 6, 7, 8, 10, 9]\n",
      "[1, 2, 3, 4, 5, 6, 7, 8, 10, 9]\n",
      "[1, 2, 3, 4, 5, 6, 7, 8, 9]\n"
     ]
    }
   ],
   "source": [
    "numeros.insert(3,2.5) #Inserta un elemento en la posición 3\n",
    "print(numeros)\n",
    "del numeros[3] #Elimina el elemento en la posición 3\n",
    "print(numeros)\n",
    "numeros.insert(3,10)\n",
    "numeros.insert(-1,10)\n",
    "print(numeros)\n",
    "numeros.remove(10) #Elimina el primer elemento que corresponde a la lista\n",
    "print(numeros)\n",
    "numeros.remove(10) #Ahora si elimina el ultimo 10\n",
    "print(numeros)"
   ]
  },
  {
   "cell_type": "markdown",
   "metadata": {},
   "source": [
    "<h2>Buscar elementos dentro de una lista</h2>"
   ]
  },
  {
   "cell_type": "code",
   "execution_count": 37,
   "metadata": {},
   "outputs": [
    {
     "name": "stdout",
     "output_type": "stream",
     "text": [
      "La caja en se encuentra en la ranura 7\n"
     ]
    }
   ],
   "source": [
    "cinta = [\"vacion\",\"vacion\",\"vacion\",\"vacion\",\"vacion\",\"vacion\",\"caja\",\"vacion\",\"vacion\",\"vacion\"]\n",
    "print(f'La caja en se encuentra en la ranura {cinta.index(\"caja\")+1}')"
   ]
  },
  {
   "cell_type": "code",
   "execution_count": 39,
   "metadata": {},
   "outputs": [
    {
     "data": {
      "text/plain": [
       "True"
      ]
     },
     "execution_count": 39,
     "metadata": {},
     "output_type": "execute_result"
    }
   ],
   "source": [
    "'''cinta.index(\"cajaGrande\") #'cajaGrande' is not in list'''\n",
    "\"caja\" in cinta"
   ]
  },
  {
   "cell_type": "code",
   "execution_count": 46,
   "metadata": {},
   "outputs": [
    {
     "name": "stdout",
     "output_type": "stream",
     "text": [
      "No hay cajas grandes en la cinta\n",
      "La caja grande se encuentra en la ranura 11\n"
     ]
    }
   ],
   "source": [
    "if \"cajaGrande\" not in cinta:\n",
    "    print(\"No hay cajas grandes en la cinta\")\n",
    "else:\n",
    "    print(f'La caja grande se encuentra en la ranura {cinta.index(\"cajaGrande\")+1}')\n",
    "\n",
    "cinta.append(\"cajaGrande\")\n",
    "if \"cajaGrande\" not in cinta:\n",
    "    print(\"No hay cajas grandes en la cinta\")\n",
    "else:\n",
    "    print(f'La caja grande se encuentra en la ranura {cinta.index(\"cajaGrande\")+1}')"
   ]
  }
 ],
 "metadata": {
  "kernelspec": {
   "display_name": "Python 3",
   "language": "python",
   "name": "python3"
  },
  "language_info": {
   "codemirror_mode": {
    "name": "ipython",
    "version": 3
   },
   "file_extension": ".py",
   "mimetype": "text/x-python",
   "name": "python",
   "nbconvert_exporter": "python",
   "pygments_lexer": "ipython3",
   "version": "3.12.4"
  }
 },
 "nbformat": 4,
 "nbformat_minor": 2
}
