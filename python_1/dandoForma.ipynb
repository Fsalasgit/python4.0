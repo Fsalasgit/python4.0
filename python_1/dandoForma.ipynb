{
 "cells": [
  {
   "cell_type": "markdown",
   "metadata": {},
   "source": [
    "<h2>Resumen de Listas en Python</h2>\n",
    "\n",
    "<h3>1. Definición:</h3>\n",
    "<p>Una lista en Python es una colección de elementos ordenados y modificables. Las listas permiten almacenar elementos de diferentes tipos, como números, cadenas y otras listas.</p>\n",
    "\n",
    "<h3>2. Creación de Listas:</h3>\n",
    "<p>Puedes crear una lista usando corchetes <code>[]</code>, con elementos separados por comas.</p>\n",
    "<pre><code>mi_lista = [1, 2, 3, 4, 5]</code></pre>\n",
    "\n",
    "<h3>3. Indexación:</h3>\n",
    "<p>Las listas utilizan un índice basado en cero. El primer elemento tiene el índice 0, el segundo elemento tiene el índice 1, y así sucesivamente.</p>\n",
    "<pre><code>mi_lista[0]  # Devuelve 1\n",
    "mi_lista[2]  # Devuelve 3</code></pre>\n",
    "\n",
    "<h3>4. Slicing:</h3>\n",
    "<p>Puedes obtener una sublista usando el operador de corte <code>[:]</code>.</p>\n",
    "<pre><code>mi_lista[1:4]  # Devuelve [2, 3, 4]</code></pre>\n",
    "\n",
    "<h3>5. Modificación de Elementos:</h3>\n",
    "<p>Puedes cambiar el valor de un elemento en una lista mediante su índice.</p>\n",
    "<pre><code>mi_lista[1] = 10  # mi_lista ahora es [1, 10, 3, 4, 5]</code></pre>\n",
    "\n",
    "<h3>6. Métodos Comunes:</h3>\n",
    "<ul>\n",
    "  <li><code>append(elemento)</code>: Agrega un elemento al final de la lista.</li>\n",
    "  <li><code>extend(lista)</code>: Agrega todos los elementos de otra lista al final de la lista actual.</li>\n",
    "  <li><code>insert(indice, elemento)</code>: Inserta un elemento en una posición específica.</li>\n",
    "  <li><code>remove(elemento)</code>: Elimina el primer elemento con el valor especificado.</li>\n",
    "  <li><code>pop(indice)</code>: Elimina y devuelve el elemento en el índice especificado.</li>\n",
    "  <li><code>sort()</code>: Ordena los elementos de la lista.</li>\n",
    "  <li><code>reverse()</code>: Invierte el orden de los elementos en la lista.</li>\n",
    "</ul>\n"
   ]
  },
  {
   "cell_type": "code",
   "execution_count": 1,
   "metadata": {},
   "outputs": [
    {
     "name": "stdout",
     "output_type": "stream",
     "text": [
      "[['sensor1', 'Sala de máquinas', 22.5], ['sensor2', 'Área de producción', 22.5], ['sensor3', 'Almacén de productos', 22.5]]\n"
     ]
    }
   ],
   "source": [
    "sensores_temperaturas = [\n",
    "    [\"sensor1\", \"Sala de máquinas\", 22.5],\n",
    "    [\"sensor2\", \"Área de producción\", 22.5],\n",
    "    [\"sensor3\", \"Almacén de productos\", 22.5]\n",
    "]\n",
    "\n",
    "print(sensores_temperaturas)"
   ]
  }
 ],
 "metadata": {
  "kernelspec": {
   "display_name": "Python 3",
   "language": "python",
   "name": "python3"
  },
  "language_info": {
   "codemirror_mode": {
    "name": "ipython",
    "version": 3
   },
   "file_extension": ".py",
   "mimetype": "text/x-python",
   "name": "python",
   "nbconvert_exporter": "python",
   "pygments_lexer": "ipython3",
   "version": "3.12.4"
  }
 },
 "nbformat": 4,
 "nbformat_minor": 2
}
