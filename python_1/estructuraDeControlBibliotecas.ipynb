{
 "cells": [
  {
   "cell_type": "markdown",
   "metadata": {},
   "source": [
    "<h1>Estructura de control - Importación de librerias</h1>"
   ]
  },
  {
   "cell_type": "markdown",
   "metadata": {},
   "source": [
    "<h2>Estructura de control</h2>"
   ]
  },
  {
   "cell_type": "markdown",
   "metadata": {},
   "source": [
    "<h2>Sentencia <code>if</code> en Python</h2>\n",
    "<p>La sentencia <code>if</code> es una de las estructuras de control de flujo más básicas en Python. Permite ejecutar un bloque de código si una condición es verdadera. La sintaxis básica de una sentencia <code>if</code> es la siguiente:</p>\n",
    "\n",
    "<pre>\n",
    "<code>if condición:\n",
    "    # Bloque de código que se ejecuta si la condición es verdadera\n",
    "    instrucción1\n",
    "    instrucción2\n",
    "    ...\n",
    "</code>\n",
    "</pre>\n",
    "\n",
    "<p>En este ejemplo, <code>condición</code> es una expresión que se evalúa como <code>True</code> o <code>False</code>. Si la condición es verdadera, se ejecutará el bloque de código indentado. Si es falsa, el bloque de código será ignorado.</p>\n",
    "\n",
    "<h3>Ejemplo</h3>\n",
    "<p>Veamos un ejemplo sencillo:</p>\n",
    "\n",
    "<pre>\n",
    "<code>edad = 18\n",
    "\n",
    "if edad >= 18:\n",
    "    print(\"Eres mayor de edad.\")\n",
    "</code>\n",
    "</pre>\n",
    "\n",
    "<p>En este caso, como <code>edad</code> es igual a 18, la condición <code>edad >= 18</code> es verdadera y el programa imprimirá <code>\"Eres mayor de edad.\"</code>.</p>\n",
    "\n",
    "<p>También es posible añadir una cláusula <code>else</code> para ejecutar un bloque de código alternativo si la condición es falsa:</p>\n",
    "\n",
    "<pre>\n",
    "<code>edad = 16\n",
    "\n",
    "if edad >= 18:\n",
    "    print(\"Eres mayor de edad.\")\n",
    "else:\n",
    "    print(\"Eres menor de edad.\")\n",
    "</code>\n",
    "</pre>\n",
    "\n",
    "<p>En este caso, como <code>edad</code> es 16, la condición <code>edad >= 18</code> es falsa y el programa imprimirá <code>\"Eres menor de edad.\"</code>.</p>\n",
    "\n",
    "<p>La sentencia <code>if</code> también puede incluir múltiples condiciones con las cláusulas <code>elif</code> (abreviatura de \"else if\"):</p>\n",
    "\n",
    "<pre>\n",
    "<code>edad = 20\n",
    "\n",
    "if edad < 18:\n",
    "    print(\"Eres menor de edad.\")\n",
    "elif edad < 21:\n",
    "    print(\"Eres mayor de edad pero no puedes beber en EE.UU.\")\n",
    "else:\n",
    "    print(\"Eres mayor de edad y puedes beber en EE.UU.\")\n",
    "</code>\n",
    "</pre>\n",
    "\n",
    "<p>En este ejemplo, el programa evaluará cada condición en orden. Si <code>edad</code> es menor de 18, imprimirá <code>\"Eres menor de edad.\"</code>. Si no, evaluará si <code>edad</code> es menor de 21. Si esta condición es verdadera, imprimirá <code>\"Eres mayor de edad pero no puedes beber en EE.UU.\"</code>. Si ninguna de las condiciones anteriores es verdadera, ejecutará el bloque de <code>else</code> e imprimirá <code>\"Eres mayor de edad y puedes beber en EE.UU.\"</code>.</p>\n"
   ]
  },
  {
   "cell_type": "code",
   "execution_count": 1,
   "metadata": {},
   "outputs": [
    {
     "name": "stdout",
     "output_type": "stream",
     "text": [
      "Sensor en falla\n"
     ]
    }
   ],
   "source": [
    "caudal = 50.0\n",
    "\n",
    "if caudal > 40.0:\n",
    "    print(\"Sensor en falla\")\n",
    "else:\n",
    "    print(\"Sensor OK\")"
   ]
  },
  {
   "cell_type": "code",
   "execution_count": 2,
   "metadata": {},
   "outputs": [
    {
     "data": {
      "text/plain": [
       "'Nivel normal'"
      ]
     },
     "execution_count": 2,
     "metadata": {},
     "output_type": "execute_result"
    }
   ],
   "source": [
    "tanque = 85.5\n",
    "\n",
    "if tanque > 95:\n",
    "    estadoTanque = \"Muy lleno\"\n",
    "elif tanque > 20.0:\n",
    "    estadoTanque = \"Nivel normal\"\n",
    "else:\n",
    "    estadoTanque = \"Vacio\"\n",
    "\n",
    "estadoTanque"
   ]
  },
  {
   "cell_type": "markdown",
   "metadata": {},
   "source": [
    "<h2>Bucle <code>for</code> en Python</h2>\n",
    "<p>El bucle <code>for</code> en Python se utiliza para iterar sobre una secuencia (como una lista, una tupla, un diccionario, un conjunto o una cadena de caracteres). La sintaxis básica de un bucle <code>for</code> es la siguiente:</p>\n",
    "\n",
    "<pre>\n",
    "<code>for elemento in secuencia:\n",
    "    # Bloque de código que se ejecuta en cada iteración\n",
    "    instrucción1\n",
    "    instrucción2\n",
    "    ...\n",
    "</code>\n",
    "</pre>\n",
    "\n",
    "<p>En este ejemplo, <code>elemento</code> toma el valor de cada ítem en la <code>secuencia</code>, uno a uno, y el bloque de código indentado se ejecuta para cada valor.</p>\n",
    "\n",
    "<h3>Ejemplo</h3>\n",
    "<p>Veamos un ejemplo sencillo:</p>\n",
    "\n",
    "<pre>\n",
    "<code>frutas = [\"manzana\", \"banana\", \"cereza\"]\n",
    "\n",
    "for fruta in frutas:\n",
    "    print(fruta)\n",
    "</code>\n",
    "</pre>\n",
    "\n",
    "<p>En este caso, el bucle <code>for</code> iterará sobre cada ítem en la lista <code>frutas</code> e imprimirá su valor.</p>\n",
    "\n",
    "<h2>Función <code>range</code> en Python</h2>\n",
    "<p>La función <code>range</code> se utiliza para generar una secuencia de números. Se utiliza a menudo con los bucles <code>for</code>. La sintaxis básica de la función <code>range</code> es la siguiente:</p>\n",
    "\n",
    "<pre>\n",
    "<code>range(inicio, fin, paso)</code>\n",
    "</pre>\n",
    "\n",
    "<p>Donde:</p>\n",
    "<ul>\n",
    "    <li><code>inicio</code>: Es el número inicial de la secuencia (incluido en la secuencia). Si se omite, el valor por defecto es 0.</li>\n",
    "    <li><code>fin</code>: Es el número hasta el cual se genera la secuencia (excluido de la secuencia).</li>\n",
    "    <li><code>paso</code>: Es el incremento entre cada número de la secuencia. Si se omite, el valor por defecto es 1.</li>\n",
    "</ul>\n",
    "\n",
    "<h3>Ejemplo</h3>\n",
    "<p>Veamos un ejemplo sencillo:</p>\n",
    "\n",
    "<pre>\n",
    "<code>for i in range(5):\n",
    "    print(i)\n",
    "</code>\n",
    "</pre>\n",
    "\n",
    "<p>En este caso, <code>range(5)</code> genera una secuencia de números de 0 a 4 (5 no está incluido), y el bucle <code>for</code> imprime cada número.</p>\n",
    "\n",
    "<p>También podemos utilizar los parámetros <code>inicio</code> y <code>paso</code>:</p>\n",
    "\n",
    "<pre>\n",
    "<code>for i in range(2, 10, 2):\n",
    "    print(i)\n",
    "</code>\n",
    "</pre>\n",
    "\n",
    "<p>En este caso, <code>range(2, 10, 2)</code> genera una secuencia de números que comienza en 2, termina en 10 (10 no está incluido), y se incrementa en 2. El bucle <code>for</code> imprimirá 2, 4, 6 y 8.</p>\n"
   ]
  },
  {
   "cell_type": "code",
   "execution_count": 15,
   "metadata": {},
   "outputs": [
    {
     "name": "stdout",
     "output_type": "stream",
     "text": [
      "Mercurio\n",
      "Venus\n",
      "Tierra\n",
      "Marte\n",
      "Jupiter\n",
      "Saturno\n",
      "Urano\n",
      "Neptuno\n"
     ]
    }
   ],
   "source": [
    "planetas = [\"mercurio\", \"venus\", \"tierra\",\"marte\", \"jupiter\",\"saturno\",\"urano\", \"neptuno\"]\n",
    "\n",
    "for planeta in planetas:    \n",
    "    print(planeta.capitalize())"
   ]
  },
  {
   "cell_type": "code",
   "execution_count": 24,
   "metadata": {},
   "outputs": [
    {
     "data": {
      "text/plain": [
       "['c', 'a', 'u', 'd', 'a', 'l', 'i', 'm', 'e', 't', 'r', 'o']"
      ]
     },
     "execution_count": 24,
     "metadata": {},
     "output_type": "execute_result"
    }
   ],
   "source": [
    "palabra = \"caudalimetro\"\n",
    "listaLetras = []\n",
    "\n",
    "for letra in palabra:\n",
    "    listaLetras.append(letra)\n",
    "\n",
    "listaLetras"
   ]
  },
  {
   "cell_type": "code",
   "execution_count": 26,
   "metadata": {},
   "outputs": [],
   "source": [
    "for repeticion in range(7):\n",
    "    print(f'numero de reoeticion: {repeticion+1}')"
   ]
  },
  {
   "cell_type": "markdown",
   "metadata": {},
   "source": []
  },
  {
   "cell_type": "markdown",
   "metadata": {},
   "source": [
    "<h2>El bucle <code>while</code> en Python</h2>\n",
    "<p>El bucle <code>while</code> en Python se utiliza para ejecutar un bloque de código repetidamente siempre que una condición dada sea <code>True</code>. La sintaxis básica es:</p>\n",
    "<pre>\n",
    "<code>\n",
    "while condición:\n",
    "    # código a ejecutar mientras la condición sea verdadera\n",
    "</code>\n",
    "</pre>\n",
    "<p>El bucle <code>while</code> evalúa la condición antes de cada iteración. Si la condición es <code>True</code>, el bloque de código dentro del bucle se ejecuta. Si la condición es <code>False</code>, el bucle termina y el programa continúa con el siguiente bloque de código.</p>\n",
    "<p>Ejemplo simple:</p>\n",
    "<pre>\n",
    "<code>\n",
    "contador = 0\n",
    "while contador < 5:\n",
    "    print(\"Contador:\", contador)\n",
    "    contador += 1\n",
    "</code>\n",
    "</pre>\n",
    "<p>En este ejemplo, el bucle <code>while</code> se ejecuta mientras la variable <code>contador</code> sea menor que 5. En cada iteración, se imprime el valor de <code>contador</code> y luego se incrementa en 1. Una vez que <code>contador</code> alcanza 5, la condición se evalúa como <code>False</code> y el bucle termina.</p>\n",
    "<p><mark>Es importante asegurarse de que la condición del bucle eventualmente se vuelva <code>False</code>; de lo contrario, se producirá un bucle infinito que hará que el programa se bloquee o se ejecute indefinidamente.</mark></p>\n"
   ]
  },
  {
   "cell_type": "code",
   "execution_count": 1,
   "metadata": {},
   "outputs": [
    {
     "name": "stdout",
     "output_type": "stream",
     "text": [
      "Repetición 1\n",
      "Repetición 2\n",
      "Repetición 3\n",
      "Repetición 4\n",
      "Repetición 5\n",
      "Repetición 6\n",
      "Repetición 7\n",
      "Repetición 8\n",
      "Repetición 9\n",
      "Repetición 10\n"
     ]
    }
   ],
   "source": [
    "i = 0\n",
    "\n",
    "while i<10:\n",
    "    i += 1\n",
    "    print(f'Repetición {i}')"
   ]
  },
  {
   "cell_type": "markdown",
   "metadata": {},
   "source": [
    "<h2>La función <code>break</code> en Python</h2>\n",
    "<p>La función <code>break</code> en Python se utiliza para terminar un bucle de manera prematura. Cuando se ejecuta <code>break</code> dentro de un bucle, el control del programa sale inmediatamente del bucle y continúa con la siguiente línea de código después del bucle.</p>\n",
    "<p>Esta función es útil para salir de un bucle cuando se ha cumplido una condición específica, sin esperar a que el bucle se complete normalmente.</p>\n",
    "<p>Ejemplo simple:</p>\n",
    "<pre>\n",
    "<code>\n",
    "for numero in range(10):\n",
    "    if numero == 5:\n",
    "        break\n",
    "    print(\"Número:\", numero)\n",
    "</code>\n",
    "</pre>\n",
    "<p>En este ejemplo, el bucle <code>for</code> itera a través de los números del 0 al 9. Cuando <code>numero</code> es igual a 5, se ejecuta <code>break</code> y el bucle termina. Los números del 0 al 4 se imprimen, pero el 5 y los números siguientes no, porque el bucle se interrumpe en ese punto.</p>\n",
    "<p>Del mismo modo, <code>break</code> también se puede usar en bucles <code>while</code>:</p>\n",
    "<pre>\n",
    "<code>\n",
    "contador = 0\n",
    "while contador < 10:\n",
    "    if contador == 5:\n",
    "        break\n",
    "    print(\"Contador:\", contador)\n",
    "    contador += 1\n",
    "</code>\n",
    "</pre>\n",
    "<p>En este caso, el bucle <code>while</code> se interrumpe cuando <code>contador</code> es igual a 5, similar al ejemplo del bucle <code>for</code>.</p>\n"
   ]
  },
  {
   "cell_type": "markdown",
   "metadata": {},
   "source": [
    "<h2>La función <code>continue</code> en Python</h2>\n",
    "<p>La función <code>continue</code> en Python se utiliza dentro de bucles para omitir el resto del código en la iteración actual y pasar directamente a la siguiente iteración del bucle. Cuando se ejecuta <code>continue</code>, el bucle no se termina; en su lugar, el control del programa salta a la siguiente vuelta del bucle.</p>\n",
    "<p>Esto es útil cuando deseas evitar ejecutar parte del código dentro del bucle para ciertas condiciones, pero quieres que el bucle siga ejecutándose.</p>\n",
    "<p>Ejemplo simple con un bucle <code>for</code>:</p>\n",
    "<pre>\n",
    "<code>\n",
    "for numero in range(10):\n",
    "    if numero % 2 == 0:\n",
    "        continue\n",
    "    print(\"Número impar:\", numero)\n",
    "</code>\n",
    "</pre>\n",
    "<p>En este ejemplo, el bucle <code>for</code> itera a través de los números del 0 al 9. Si <code>numero</code> es par (es decir, <code>numero % 2 == 0</code>), se ejecuta <code>continue</code> y el bucle salta a la siguiente iteración sin ejecutar <code>print</code>. Como resultado, solo se imprimen los números impares.</p>\n",
    "<p>Del mismo modo, <code>continue</code> también se puede usar en bucles <code>while</code>:</p>\n",
    "<pre>\n",
    "<code>\n",
    "contador = 0\n",
    "while contador < 10:\n",
    "    contador += 1\n",
    "    if contador % 2 == 0:\n",
    "        continue\n",
    "    print(\"Contador impar:\", contador)\n",
    "</code>\n",
    "</pre>\n",
    "<p>En este caso, el bucle <code>while</code> incrementa <code>contador</code> en cada iteración. Si <code>contador</code> es par, <code>continue</code> omite la impresión y el bucle pasa a la siguiente iteración. Como resultado, solo se imprimen los valores impares de <code>contador</code>.</p>\n"
   ]
  }
 ],
 "metadata": {
  "kernelspec": {
   "display_name": "Python 3",
   "language": "python",
   "name": "python3"
  },
  "language_info": {
   "codemirror_mode": {
    "name": "ipython",
    "version": 3
   },
   "file_extension": ".py",
   "mimetype": "text/x-python",
   "name": "python",
   "nbconvert_exporter": "python",
   "pygments_lexer": "ipython3",
   "version": "3.12.4"
  }
 },
 "nbformat": 4,
 "nbformat_minor": 2
}
