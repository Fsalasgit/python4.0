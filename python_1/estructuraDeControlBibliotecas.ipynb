{
 "cells": [
  {
   "cell_type": "markdown",
   "metadata": {},
   "source": [
    "<h1>Estructura de control - Importación de librerias</h1>"
   ]
  },
  {
   "cell_type": "markdown",
   "metadata": {},
   "source": [
    "<h2>Estructura de control</h2>"
   ]
  },
  {
   "cell_type": "markdown",
   "metadata": {},
   "source": [
    "<h2>Sentencia <code>if</code> en Python</h2>\n",
    "<p>La sentencia <code>if</code> es una de las estructuras de control de flujo más básicas en Python. Permite ejecutar un bloque de código si una condición es verdadera. La sintaxis básica de una sentencia <code>if</code> es la siguiente:</p>\n",
    "\n",
    "<pre>\n",
    "<code>if condición:\n",
    "    # Bloque de código que se ejecuta si la condición es verdadera\n",
    "    instrucción1\n",
    "    instrucción2\n",
    "    ...\n",
    "</code>\n",
    "</pre>\n",
    "\n",
    "<p>En este ejemplo, <code>condición</code> es una expresión que se evalúa como <code>True</code> o <code>False</code>. Si la condición es verdadera, se ejecutará el bloque de código indentado. Si es falsa, el bloque de código será ignorado.</p>\n",
    "\n",
    "<h3>Ejemplo</h3>\n",
    "<p>Veamos un ejemplo sencillo:</p>\n",
    "\n",
    "<pre>\n",
    "<code>edad = 18\n",
    "\n",
    "if edad >= 18:\n",
    "    print(\"Eres mayor de edad.\")\n",
    "</code>\n",
    "</pre>\n",
    "\n",
    "<p>En este caso, como <code>edad</code> es igual a 18, la condición <code>edad >= 18</code> es verdadera y el programa imprimirá <code>\"Eres mayor de edad.\"</code>.</p>\n",
    "\n",
    "<p>También es posible añadir una cláusula <code>else</code> para ejecutar un bloque de código alternativo si la condición es falsa:</p>\n",
    "\n",
    "<pre>\n",
    "<code>edad = 16\n",
    "\n",
    "if edad >= 18:\n",
    "    print(\"Eres mayor de edad.\")\n",
    "else:\n",
    "    print(\"Eres menor de edad.\")\n",
    "</code>\n",
    "</pre>\n",
    "\n",
    "<p>En este caso, como <code>edad</code> es 16, la condición <code>edad >= 18</code> es falsa y el programa imprimirá <code>\"Eres menor de edad.\"</code>.</p>\n",
    "\n",
    "<p>La sentencia <code>if</code> también puede incluir múltiples condiciones con las cláusulas <code>elif</code> (abreviatura de \"else if\"):</p>\n",
    "\n",
    "<pre>\n",
    "<code>edad = 20\n",
    "\n",
    "if edad < 18:\n",
    "    print(\"Eres menor de edad.\")\n",
    "elif edad < 21:\n",
    "    print(\"Eres mayor de edad pero no puedes beber en EE.UU.\")\n",
    "else:\n",
    "    print(\"Eres mayor de edad y puedes beber en EE.UU.\")\n",
    "</code>\n",
    "</pre>\n",
    "\n",
    "<p>En este ejemplo, el programa evaluará cada condición en orden. Si <code>edad</code> es menor de 18, imprimirá <code>\"Eres menor de edad.\"</code>. Si no, evaluará si <code>edad</code> es menor de 21. Si esta condición es verdadera, imprimirá <code>\"Eres mayor de edad pero no puedes beber en EE.UU.\"</code>. Si ninguna de las condiciones anteriores es verdadera, ejecutará el bloque de <code>else</code> e imprimirá <code>\"Eres mayor de edad y puedes beber en EE.UU.\"</code>.</p>\n"
   ]
  },
  {
   "cell_type": "code",
   "execution_count": 1,
   "metadata": {},
   "outputs": [
    {
     "name": "stdout",
     "output_type": "stream",
     "text": [
      "Sensor en falla\n"
     ]
    }
   ],
   "source": [
    "caudal = 50.0\n",
    "\n",
    "if caudal > 40.0:\n",
    "    print(\"Sensor en falla\")\n",
    "else:\n",
    "    print(\"Sensor OK\")"
   ]
  },
  {
   "cell_type": "code",
   "execution_count": 2,
   "metadata": {},
   "outputs": [
    {
     "data": {
      "text/plain": [
       "'Nivel normal'"
      ]
     },
     "execution_count": 2,
     "metadata": {},
     "output_type": "execute_result"
    }
   ],
   "source": [
    "tanque = 85.5\n",
    "\n",
    "if tanque > 95:\n",
    "    estadoTanque = \"Muy lleno\"\n",
    "elif tanque > 20.0:\n",
    "    estadoTanque = \"Nivel normal\"\n",
    "else:\n",
    "    estadoTanque = \"Vacio\"\n",
    "\n",
    "estadoTanque"
   ]
  }
 ],
 "metadata": {
  "kernelspec": {
   "display_name": "Python 3",
   "language": "python",
   "name": "python3"
  },
  "language_info": {
   "codemirror_mode": {
    "name": "ipython",
    "version": 3
   },
   "file_extension": ".py",
   "mimetype": "text/x-python",
   "name": "python",
   "nbconvert_exporter": "python",
   "pygments_lexer": "ipython3",
   "version": "3.12.4"
  }
 },
 "nbformat": 4,
 "nbformat_minor": 2
}
