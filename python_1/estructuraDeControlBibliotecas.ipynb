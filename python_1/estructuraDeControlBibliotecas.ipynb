{
 "cells": [
  {
   "cell_type": "markdown",
   "metadata": {},
   "source": [
    "<h1>Estructura de control - Importación de librerias</h1>"
   ]
  },
  {
   "cell_type": "markdown",
   "metadata": {},
   "source": [
    "<h2>Estructura de control</h2>"
   ]
  },
  {
   "cell_type": "markdown",
   "metadata": {},
   "source": [
    "<h2>Sentencia <code>if</code> en Python</h2>\n",
    "<p>La sentencia <code>if</code> es una de las estructuras de control de flujo más básicas en Python. Permite ejecutar un bloque de código si una condición es verdadera. La sintaxis básica de una sentencia <code>if</code> es la siguiente:</p>\n",
    "\n",
    "<pre>\n",
    "<code>if condición:\n",
    "    # Bloque de código que se ejecuta si la condición es verdadera\n",
    "    instrucción1\n",
    "    instrucción2\n",
    "    ...\n",
    "</code>\n",
    "</pre>\n",
    "\n",
    "<p>En este ejemplo, <code>condición</code> es una expresión que se evalúa como <code>True</code> o <code>False</code>. Si la condición es verdadera, se ejecutará el bloque de código indentado. Si es falsa, el bloque de código será ignorado.</p>\n",
    "\n",
    "<h3>Ejemplo</h3>\n",
    "<p>Veamos un ejemplo sencillo:</p>\n",
    "\n",
    "<pre>\n",
    "<code>edad = 18\n",
    "\n",
    "if edad >= 18:\n",
    "    print(\"Eres mayor de edad.\")\n",
    "</code>\n",
    "</pre>\n",
    "\n",
    "<p>En este caso, como <code>edad</code> es igual a 18, la condición <code>edad >= 18</code> es verdadera y el programa imprimirá <code>\"Eres mayor de edad.\"</code>.</p>\n",
    "\n",
    "<p>También es posible añadir una cláusula <code>else</code> para ejecutar un bloque de código alternativo si la condición es falsa:</p>\n",
    "\n",
    "<pre>\n",
    "<code>edad = 16\n",
    "\n",
    "if edad >= 18:\n",
    "    print(\"Eres mayor de edad.\")\n",
    "else:\n",
    "    print(\"Eres menor de edad.\")\n",
    "</code>\n",
    "</pre>\n",
    "\n",
    "<p>En este caso, como <code>edad</code> es 16, la condición <code>edad >= 18</code> es falsa y el programa imprimirá <code>\"Eres menor de edad.\"</code>.</p>\n",
    "\n",
    "<p>La sentencia <code>if</code> también puede incluir múltiples condiciones con las cláusulas <code>elif</code> (abreviatura de \"else if\"):</p>\n",
    "\n",
    "<pre>\n",
    "<code>edad = 20\n",
    "\n",
    "if edad < 18:\n",
    "    print(\"Eres menor de edad.\")\n",
    "elif edad < 21:\n",
    "    print(\"Eres mayor de edad pero no puedes beber en EE.UU.\")\n",
    "else:\n",
    "    print(\"Eres mayor de edad y puedes beber en EE.UU.\")\n",
    "</code>\n",
    "</pre>\n",
    "\n",
    "<p>En este ejemplo, el programa evaluará cada condición en orden. Si <code>edad</code> es menor de 18, imprimirá <code>\"Eres menor de edad.\"</code>. Si no, evaluará si <code>edad</code> es menor de 21. Si esta condición es verdadera, imprimirá <code>\"Eres mayor de edad pero no puedes beber en EE.UU.\"</code>. Si ninguna de las condiciones anteriores es verdadera, ejecutará el bloque de <code>else</code> e imprimirá <code>\"Eres mayor de edad y puedes beber en EE.UU.\"</code>.</p>\n"
   ]
  },
  {
   "cell_type": "code",
   "execution_count": 1,
   "metadata": {},
   "outputs": [
    {
     "name": "stdout",
     "output_type": "stream",
     "text": [
      "Sensor en falla\n"
     ]
    }
   ],
   "source": [
    "caudal = 50.0\n",
    "\n",
    "if caudal > 40.0:\n",
    "    print(\"Sensor en falla\")\n",
    "else:\n",
    "    print(\"Sensor OK\")"
   ]
  },
  {
   "cell_type": "code",
   "execution_count": 2,
   "metadata": {},
   "outputs": [
    {
     "data": {
      "text/plain": [
       "'Nivel normal'"
      ]
     },
     "execution_count": 2,
     "metadata": {},
     "output_type": "execute_result"
    }
   ],
   "source": [
    "tanque = 85.5\n",
    "\n",
    "if tanque > 95:\n",
    "    estadoTanque = \"Muy lleno\"\n",
    "elif tanque > 20.0:\n",
    "    estadoTanque = \"Nivel normal\"\n",
    "else:\n",
    "    estadoTanque = \"Vacio\"\n",
    "\n",
    "estadoTanque"
   ]
  },
  {
   "cell_type": "markdown",
   "metadata": {},
   "source": [
    "<h2>Bucle <code>for</code> en Python</h2>\n",
    "<p>El bucle <code>for</code> en Python se utiliza para iterar sobre una secuencia (como una lista, una tupla, un diccionario, un conjunto o una cadena de caracteres). La sintaxis básica de un bucle <code>for</code> es la siguiente:</p>\n",
    "\n",
    "<pre>\n",
    "<code>for elemento in secuencia:\n",
    "    # Bloque de código que se ejecuta en cada iteración\n",
    "    instrucción1\n",
    "    instrucción2\n",
    "    ...\n",
    "</code>\n",
    "</pre>\n",
    "\n",
    "<p>En este ejemplo, <code>elemento</code> toma el valor de cada ítem en la <code>secuencia</code>, uno a uno, y el bloque de código indentado se ejecuta para cada valor.</p>\n",
    "\n",
    "<h3>Ejemplo</h3>\n",
    "<p>Veamos un ejemplo sencillo:</p>\n",
    "\n",
    "<pre>\n",
    "<code>frutas = [\"manzana\", \"banana\", \"cereza\"]\n",
    "\n",
    "for fruta in frutas:\n",
    "    print(fruta)\n",
    "</code>\n",
    "</pre>\n",
    "\n",
    "<p>En este caso, el bucle <code>for</code> iterará sobre cada ítem en la lista <code>frutas</code> e imprimirá su valor.</p>\n",
    "\n",
    "<h2>Función <code>range</code> en Python</h2>\n",
    "<p>La función <code>range</code> se utiliza para generar una secuencia de números. Se utiliza a menudo con los bucles <code>for</code>. La sintaxis básica de la función <code>range</code> es la siguiente:</p>\n",
    "\n",
    "<pre>\n",
    "<code>range(inicio, fin, paso)</code>\n",
    "</pre>\n",
    "\n",
    "<p>Donde:</p>\n",
    "<ul>\n",
    "    <li><code>inicio</code>: Es el número inicial de la secuencia (incluido en la secuencia). Si se omite, el valor por defecto es 0.</li>\n",
    "    <li><code>fin</code>: Es el número hasta el cual se genera la secuencia (excluido de la secuencia).</li>\n",
    "    <li><code>paso</code>: Es el incremento entre cada número de la secuencia. Si se omite, el valor por defecto es 1.</li>\n",
    "</ul>\n",
    "\n",
    "<h3>Ejemplo</h3>\n",
    "<p>Veamos un ejemplo sencillo:</p>\n",
    "\n",
    "<pre>\n",
    "<code>for i in range(5):\n",
    "    print(i)\n",
    "</code>\n",
    "</pre>\n",
    "\n",
    "<p>En este caso, <code>range(5)</code> genera una secuencia de números de 0 a 4 (5 no está incluido), y el bucle <code>for</code> imprime cada número.</p>\n",
    "\n",
    "<p>También podemos utilizar los parámetros <code>inicio</code> y <code>paso</code>:</p>\n",
    "\n",
    "<pre>\n",
    "<code>for i in range(2, 10, 2):\n",
    "    print(i)\n",
    "</code>\n",
    "</pre>\n",
    "\n",
    "<p>En este caso, <code>range(2, 10, 2)</code> genera una secuencia de números que comienza en 2, termina en 10 (10 no está incluido), y se incrementa en 2. El bucle <code>for</code> imprimirá 2, 4, 6 y 8.</p>\n"
   ]
  },
  {
   "cell_type": "code",
   "execution_count": 15,
   "metadata": {},
   "outputs": [
    {
     "name": "stdout",
     "output_type": "stream",
     "text": [
      "Mercurio\n",
      "Venus\n",
      "Tierra\n",
      "Marte\n",
      "Jupiter\n",
      "Saturno\n",
      "Urano\n",
      "Neptuno\n"
     ]
    }
   ],
   "source": [
    "planetas = [\"mercurio\", \"venus\", \"tierra\",\"marte\", \"jupiter\",\"saturno\",\"urano\", \"neptuno\"]\n",
    "\n",
    "for planeta in planetas:    \n",
    "    print(planeta.capitalize())"
   ]
  },
  {
   "cell_type": "code",
   "execution_count": 24,
   "metadata": {},
   "outputs": [
    {
     "data": {
      "text/plain": [
       "['c', 'a', 'u', 'd', 'a', 'l', 'i', 'm', 'e', 't', 'r', 'o']"
      ]
     },
     "execution_count": 24,
     "metadata": {},
     "output_type": "execute_result"
    }
   ],
   "source": [
    "palabra = \"caudalimetro\"\n",
    "listaLetras = []\n",
    "\n",
    "for letra in palabra:\n",
    "    listaLetras.append(letra)\n",
    "\n",
    "listaLetras"
   ]
  },
  {
   "cell_type": "code",
   "execution_count": 26,
   "metadata": {},
   "outputs": [],
   "source": [
    "for repeticion in range(7):\n",
    "    print(f'numero de reoeticion: {repeticion+1}')"
   ]
  }
 ],
 "metadata": {
  "kernelspec": {
   "display_name": "Python 3",
   "language": "python",
   "name": "python3"
  },
  "language_info": {
   "codemirror_mode": {
    "name": "ipython",
    "version": 3
   },
   "file_extension": ".py",
   "mimetype": "text/x-python",
   "name": "python",
   "nbconvert_exporter": "python",
   "pygments_lexer": "ipython3",
   "version": "3.12.4"
  }
 },
 "nbformat": 4,
 "nbformat_minor": 2
}
