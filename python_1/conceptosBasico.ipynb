{
 "cells": [
  {
   "cell_type": "markdown",
   "metadata": {},
   "source": [
    "<style>\n",
    "    h2{\n",
    "        text-align:center;\n",
    "    }\n",
    "</style>\n",
    "<h2>Comentarios</h2>\n",
    "\n",
    "<p>Hay dos tipos principales de comentarios: los comentarios de una sola línea y los comentarios de múltiples líneas. Los comentarios se utilizan para explicar y documentar el código, lo que facilita su comprensión y mantenimiento. </p>"
   ]
  },
  {
   "cell_type": "code",
   "execution_count": 3,
   "metadata": {},
   "outputs": [
    {
     "name": "stdout",
     "output_type": "stream",
     "text": [
      "Hola, mundo\n"
     ]
    }
   ],
   "source": [
    "# Este es un comentario de una sola línea\n",
    "\n",
    "\"\"\"\n",
    "Este es un comentario de múltiples líneas.\n",
    "Se puede utilizar para explicar más detalladamente\n",
    "el funcionamiento de una sección de código.\n",
    "\"\"\"\n",
    "\n",
    "\n",
    "print(\"Hola, mundo\")  # Este es otro comentario de una sola línea"
   ]
  },
  {
   "cell_type": "markdown",
   "metadata": {},
   "source": [
    "<h2>Variables</h2>\n",
    "<p>una variable es un contenedor para almacenar datos. Las variables permiten que los programas almacenen y manipulen información de manera dinámica. </p>\n",
    "<p>Python soporta varios tipos de datos que se pueden asignar a las variables. Algunos de los más comunes incluyen:</p>"
   ]
  },
  {
   "cell_type": "code",
   "execution_count": 4,
   "metadata": {},
   "outputs": [],
   "source": [
    "# Entero (int)\n",
    "edad = 25  # Edad de una persona\n",
    "\n",
    "# Flotante (float)\n",
    "precio = 19.99  # Precio de un artículo\n",
    "\n",
    "# Cadena de texto (str)\n",
    "nombre = \"IngeBOT\"  # Nombre del asistente\n",
    "\n",
    "# Booleano (bool)\n",
    "es_activo = True  # Indicador de estado\n",
    "\n",
    "# Lista (list)\n",
    "numeros = [1, 2, 3, 4, 5]  # Lista de números enteros\n",
    "\n",
    "# Tupla (tuple)\n",
    "coordenadas = (10.0, 20.0)  # Coordenadas geográficas\n",
    "\n",
    "# Diccionario (dict)\n",
    "usuario = {\"nombre\": \"IngeBOT\", \"edad\": 1}  # Información de un usuario\n",
    "\n",
    "# Conjunto (set)\n",
    "frutas = {\"manzana\", \"banana\", \"cereza\"}  # Conjunto de frutas"
   ]
  },
  {
   "cell_type": "code",
   "execution_count": 6,
   "metadata": {},
   "outputs": [
    {
     "name": "stdout",
     "output_type": "stream",
     "text": [
      "[1, 2, 3, 4, 5]\n"
     ]
    }
   ],
   "source": [
    "print(numeros)"
   ]
  }
 ],
 "metadata": {
  "kernelspec": {
   "display_name": "Python 3",
   "language": "python",
   "name": "python3"
  },
  "language_info": {
   "codemirror_mode": {
    "name": "ipython",
    "version": 3
   },
   "file_extension": ".py",
   "mimetype": "text/x-python",
   "name": "python",
   "nbconvert_exporter": "python",
   "pygments_lexer": "ipython3",
   "version": "3.11.9"
  }
 },
 "nbformat": 4,
 "nbformat_minor": 2
}
