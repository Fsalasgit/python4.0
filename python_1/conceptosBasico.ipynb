{
 "cells": [
  {
   "cell_type": "markdown",
   "metadata": {},
   "source": [
    "<h2>Comentarios</h2>\n",
    "\n",
    "<p>Hay dos tipos principales de comentarios: los comentarios de una sola línea y los comentarios de múltiples líneas. Los comentarios se utilizan para explicar y documentar el código, lo que facilita su comprensión y mantenimiento. </p>"
   ]
  },
  {
   "cell_type": "code",
   "execution_count": 3,
   "metadata": {},
   "outputs": [
    {
     "name": "stdout",
     "output_type": "stream",
     "text": [
      "Hola, mundo\n"
     ]
    }
   ],
   "source": [
    "# Este es un comentario de una sola línea\n",
    "\n",
    "\"\"\"\n",
    "Este es un comentario de múltiples líneas.\n",
    "Se puede utilizar para explicar más detalladamente\n",
    "el funcionamiento de una sección de código.\n",
    "\"\"\"\n",
    "\n",
    "\n",
    "print(\"Hola, mundo\")  # Este es otro comentario de una sola línea"
   ]
  },
  {
   "cell_type": "markdown",
   "metadata": {},
   "source": [
    "<h2>Variables</h2>\n",
    "<p>una variable es un contenedor para almacenar datos. Las variables permiten que los programas almacenen y manipulen información de manera dinámica. </p>\n",
    "<p>Python soporta varios tipos de datos que se pueden asignar a las variables. Algunos de los más comunes incluyen:</p>"
   ]
  },
  {
   "cell_type": "code",
   "execution_count": 4,
   "metadata": {},
   "outputs": [],
   "source": [
    "# Entero (int)\n",
    "edad = 25  # Edad de una persona\n",
    "\n",
    "# Flotante (float)\n",
    "precio = 19.99  # Precio de un artículo\n",
    "\n",
    "# Cadena de texto (str)\n",
    "nombre = \"IngeBOT\"  # Nombre del asistente\n",
    "\n",
    "# Booleano (bool)\n",
    "es_activo = True  # Indicador de estado\n",
    "\n",
    "# Lista (list)\n",
    "numeros = [1, 2, 3, 4, 5]  # Lista de números enteros\n",
    "\n",
    "# Tupla (tuple)\n",
    "coordenadas = (10.0, 20.0)  # Coordenadas geográficas\n",
    "\n",
    "# Diccionario (dict)\n",
    "usuario = {\"nombre\": \"IngeBOT\", \"edad\": 1}  # Información de un usuario\n",
    "\n",
    "# Conjunto (set)\n",
    "frutas = {\"manzana\", \"banana\", \"cereza\"}  # Conjunto de frutas"
   ]
  },
  {
   "cell_type": "code",
   "execution_count": 6,
   "metadata": {},
   "outputs": [
    {
     "name": "stdout",
     "output_type": "stream",
     "text": [
      "[1, 2, 3, 4, 5]\n"
     ]
    }
   ],
   "source": [
    "print(numeros)"
   ]
  },
  {
   "cell_type": "code",
   "execution_count": 7,
   "metadata": {},
   "outputs": [
    {
     "name": "stdout",
     "output_type": "stream",
     "text": [
      "<class 'list'>\n"
     ]
    }
   ],
   "source": [
    "#Verificacion de tipos de datos\n",
    "\n",
    "print(type(numeros))"
   ]
  },
  {
   "cell_type": "code",
   "execution_count": 8,
   "metadata": {},
   "outputs": [
    {
     "name": "stdout",
     "output_type": "stream",
     "text": [
      "\n",
      "aqui hay algo multilinea\n",
      "vamos a poner a prueba\n",
      " \n"
     ]
    }
   ],
   "source": [
    "variableMultiline = '''\n",
    "aqui hay algo multilinea\n",
    "vamos a poner a prueba\n",
    " '''\n",
    "\n",
    "print(variableMultiline)"
   ]
  },
  {
   "cell_type": "code",
   "execution_count": 9,
   "metadata": {},
   "outputs": [
    {
     "name": "stdout",
     "output_type": "stream",
     "text": [
      "<class 'str'>\n"
     ]
    }
   ],
   "source": [
    "print(type(variableMultiline))"
   ]
  },
  {
   "cell_type": "markdown",
   "metadata": {},
   "source": [
    "<h2>Operadores aritméticos</h2>\n",
    "\n",
    "<p>Secuencia de operación:</p>\n",
    "\n",
    "<ol>\n",
    "    <li>Paréntesis</li>\n",
    "    <li>Exponente</li>\n",
    "    <li>Multiplicacion / División</li>\n",
    "    <li>Adiccion / Sustracción </li>\n",
    "</ol>"
   ]
  },
  {
   "cell_type": "code",
   "execution_count": 13,
   "metadata": {},
   "outputs": [
    {
     "name": "stdout",
     "output_type": "stream",
     "text": [
      "La suma de 4 y 2 es: 6\n",
      "La resta de 4 y 2 es: 2\n",
      "La multiplicacion de 4 y 2 es: 8\n",
      "La división de 4 y 2 es: 2.0\n",
      "La división de 4 y 2 es: 2\n",
      "El resto de 4 y 2 es: 0\n"
     ]
    }
   ],
   "source": [
    "\n",
    "varUno = 4\n",
    "varDos = 2\n",
    "\n",
    "#suma\n",
    "resultado = varUno + varDos\n",
    "print(f'La suma de {varUno} y {varDos} es: {resultado}')\n",
    "\n",
    "#resta\n",
    "resultado = varUno - varDos\n",
    "print(f'La resta de {varUno} y {varDos} es: {resultado}')\n",
    "\n",
    "#multiplicacion\n",
    "resultado = varUno * varDos\n",
    "print(f'La multiplicacion de {varUno} y {varDos} es: {resultado}')\n",
    "\n",
    "#división\n",
    "resultado = varUno / varDos\n",
    "print(f'La división de {varUno} y {varDos} es: {resultado}')\n",
    "\n",
    "#division truncada (Elimina parte fraccionaria)\n",
    "resultado = varUno // varDos\n",
    "print(f'La división de {varUno} y {varDos} es: {resultado}')\n",
    "\n",
    "#resto\n",
    "resultado = varUno % varDos\n",
    "print(f'El resto de {varUno} y {varDos} es: {resultado}')\n",
    "\n"
   ]
  },
  {
   "cell_type": "markdown",
   "metadata": {},
   "source": [
    "<h2>Ejercicio:</h2>\n",
    "\n",
    "<p>Convertir una temperatura de grados centigrados a Fahrengeit y a Kelvin</p>"
   ]
  },
  {
   "cell_type": "code",
   "execution_count": 1,
   "metadata": {},
   "outputs": [
    {
     "name": "stdout",
     "output_type": "stream",
     "text": [
      "32.5°C equivale a 90.5°F o 305.65°K\n"
     ]
    }
   ],
   "source": [
    "#Para este ejercicio supondremos que el usuario ingresará un numero\n",
    "temp_c = 32.5\n",
    "temp_c = float(temp_c)\n",
    "temp_f = temp_c * 9/5 +32\n",
    "temp_k = (temp_c + 273.15)\n",
    "\n",
    "\n",
    "print(f'{temp_c}°C equivale a {temp_f}°F o {temp_k}°K')\n"
   ]
  },
  {
   "cell_type": "markdown",
   "metadata": {},
   "source": [
    "<h2>Comparaciones en Python</h2>\n",
    "<p>En Python, las comparaciones se utilizan para evaluar la relación entre dos valores. Los operadores de comparación más comunes son:</p>\n",
    "<ol>\n",
    "    <li>Igualdad (==): Verifica si dos valores son iguales.</li>\n",
    "    <li>Desigualdad (!=): Verifica si dos valores no son iguales.</li>\n",
    "    <li>Mayor que (>): Verifica si el valor a la izquierda es mayor que el valor a la derecha.</li>\n",
    "    <li>Menor que (<): Verifica si el valor a la izquierda es menor que el valor a la derecha.</li>\n",
    "    <li>Mayor o igual que (>=): Verifica si el valor a la izquierda es mayor o igual que el valor a la derecha.</li>\n",
    "    <li>Menor o igual que (<=): Verifica si el valor a la izquierda es menor o igual que el valor a la derecha.</li>\n",
    "</ol>"
   ]
  },
  {
   "cell_type": "code",
   "execution_count": 3,
   "metadata": {},
   "outputs": [
    {
     "name": "stdout",
     "output_type": "stream",
     "text": [
      "False\n",
      "True\n",
      "False\n",
      "True\n",
      "False\n",
      "True\n"
     ]
    }
   ],
   "source": [
    "# Igualdad\n",
    "a = 10\n",
    "b = 20\n",
    "print(a == b)  # False\n",
    "\n",
    "# Desigualdad\n",
    "print(a != b)  # True\n",
    "\n",
    "# Mayor que\n",
    "print(a > b)  # False\n",
    "\n",
    "# Menor que\n",
    "print(a < b)  # True\n",
    "\n",
    "# Mayor o igual que\n",
    "print(a >= b)  # False\n",
    "\n",
    "# Menor o igual que\n",
    "print(a <= b)  # True"
   ]
  },
  {
   "cell_type": "markdown",
   "metadata": {},
   "source": [
    "<p><strong>Nota: </strong>En Python, al comparar dos valores de distintos tipos (con igual) nos dará false.</p>\n",
    "compara = 10 < \"10\" </br>\n",
    "compara </br>\n",
    "<mark>TypeError: '<' not supported between instances of 'int' and 'str'</mark>"
   ]
  },
  {
   "cell_type": "markdown",
   "metadata": {},
   "source": [
    "<h2>Entrada y salidas</h2>"
   ]
  },
  {
   "cell_type": "code",
   "execution_count": 2,
   "metadata": {},
   "outputs": [
    {
     "name": "stdout",
     "output_type": "stream",
     "text": [
      "Help on built-in function print in module builtins:\n",
      "\n",
      "print(*args, sep=' ', end='\\n', file=None, flush=False)\n",
      "    Prints the values to a stream, or to sys.stdout by default.\n",
      "\n",
      "    sep\n",
      "      string inserted between values, default a space.\n",
      "    end\n",
      "      string appended after the last value, default a newline.\n",
      "    file\n",
      "      a file-like object (stream); defaults to the current sys.stdout.\n",
      "    flush\n",
      "      whether to forcibly flush the stream.\n",
      "\n"
     ]
    }
   ],
   "source": [
    "help(print)"
   ]
  },
  {
   "cell_type": "code",
   "execution_count": 4,
   "metadata": {},
   "outputs": [
    {
     "name": "stdout",
     "output_type": "stream",
     "text": [
      "Help on int object:\n",
      "\n",
      "class int(object)\n",
      " |  int([x]) -> integer\n",
      " |  int(x, base=10) -> integer\n",
      " |\n",
      " |  Convert a number or string to an integer, or return 0 if no arguments\n",
      " |  are given.  If x is a number, return x.__int__().  For floating point\n",
      " |  numbers, this truncates towards zero.\n",
      " |\n",
      " |  If x is not a number or if base is given, then x must be a string,\n",
      " |  bytes, or bytearray instance representing an integer literal in the\n",
      " |  given base.  The literal can be preceded by '+' or '-' and be surrounded\n",
      " |  by whitespace.  The base defaults to 10.  Valid bases are 0 and 2-36.\n",
      " |  Base 0 means to interpret the base from the string as an integer literal.\n",
      " |  >>> int('0b100', base=0)\n",
      " |  4\n",
      " |\n",
      " |  Built-in subclasses:\n",
      " |      bool\n",
      " |\n",
      " |  Methods defined here:\n",
      " |\n",
      " |  __abs__(self, /)\n",
      " |      abs(self)\n",
      " |\n",
      " |  __add__(self, value, /)\n",
      " |      Return self+value.\n",
      " |\n",
      " |  __and__(self, value, /)\n",
      " |      Return self&value.\n",
      " |\n",
      " |  __bool__(self, /)\n",
      " |      True if self else False\n",
      " |\n",
      " |  __ceil__(...)\n",
      " |      Ceiling of an Integral returns itself.\n",
      " |\n",
      " |  __divmod__(self, value, /)\n",
      " |      Return divmod(self, value).\n",
      " |\n",
      " |  __eq__(self, value, /)\n",
      " |      Return self==value.\n",
      " |\n",
      " |  __float__(self, /)\n",
      " |      float(self)\n",
      " |\n",
      " |  __floor__(...)\n",
      " |      Flooring an Integral returns itself.\n",
      " |\n",
      " |  __floordiv__(self, value, /)\n",
      " |      Return self//value.\n",
      " |\n",
      " |  __format__(self, format_spec, /)\n",
      " |      Convert to a string according to format_spec.\n",
      " |\n",
      " |  __ge__(self, value, /)\n",
      " |      Return self>=value.\n",
      " |\n",
      " |  __getattribute__(self, name, /)\n",
      " |      Return getattr(self, name).\n",
      " |\n",
      " |  __getnewargs__(self, /)\n",
      " |\n",
      " |  __gt__(self, value, /)\n",
      " |      Return self>value.\n",
      " |\n",
      " |  __hash__(self, /)\n",
      " |      Return hash(self).\n",
      " |\n",
      " |  __index__(self, /)\n",
      " |      Return self converted to an integer, if self is suitable for use as an index into a list.\n",
      " |\n",
      " |  __int__(self, /)\n",
      " |      int(self)\n",
      " |\n",
      " |  __invert__(self, /)\n",
      " |      ~self\n",
      " |\n",
      " |  __le__(self, value, /)\n",
      " |      Return self<=value.\n",
      " |\n",
      " |  __lshift__(self, value, /)\n",
      " |      Return self<<value.\n",
      " |\n",
      " |  __lt__(self, value, /)\n",
      " |      Return self<value.\n",
      " |\n",
      " |  __mod__(self, value, /)\n",
      " |      Return self%value.\n",
      " |\n",
      " |  __mul__(self, value, /)\n",
      " |      Return self*value.\n",
      " |\n",
      " |  __ne__(self, value, /)\n",
      " |      Return self!=value.\n",
      " |\n",
      " |  __neg__(self, /)\n",
      " |      -self\n",
      " |\n",
      " |  __or__(self, value, /)\n",
      " |      Return self|value.\n",
      " |\n",
      " |  __pos__(self, /)\n",
      " |      +self\n",
      " |\n",
      " |  __pow__(self, value, mod=None, /)\n",
      " |      Return pow(self, value, mod).\n",
      " |\n",
      " |  __radd__(self, value, /)\n",
      " |      Return value+self.\n",
      " |\n",
      " |  __rand__(self, value, /)\n",
      " |      Return value&self.\n",
      " |\n",
      " |  __rdivmod__(self, value, /)\n",
      " |      Return divmod(value, self).\n",
      " |\n",
      " |  __repr__(self, /)\n",
      " |      Return repr(self).\n",
      " |\n",
      " |  __rfloordiv__(self, value, /)\n",
      " |      Return value//self.\n",
      " |\n",
      " |  __rlshift__(self, value, /)\n",
      " |      Return value<<self.\n",
      " |\n",
      " |  __rmod__(self, value, /)\n",
      " |      Return value%self.\n",
      " |\n",
      " |  __rmul__(self, value, /)\n",
      " |      Return value*self.\n",
      " |\n",
      " |  __ror__(self, value, /)\n",
      " |      Return value|self.\n",
      " |\n",
      " |  __round__(...)\n",
      " |      Rounding an Integral returns itself.\n",
      " |\n",
      " |      Rounding with an ndigits argument also returns an integer.\n",
      " |\n",
      " |  __rpow__(self, value, mod=None, /)\n",
      " |      Return pow(value, self, mod).\n",
      " |\n",
      " |  __rrshift__(self, value, /)\n",
      " |      Return value>>self.\n",
      " |\n",
      " |  __rshift__(self, value, /)\n",
      " |      Return self>>value.\n",
      " |\n",
      " |  __rsub__(self, value, /)\n",
      " |      Return value-self.\n",
      " |\n",
      " |  __rtruediv__(self, value, /)\n",
      " |      Return value/self.\n",
      " |\n",
      " |  __rxor__(self, value, /)\n",
      " |      Return value^self.\n",
      " |\n",
      " |  __sizeof__(self, /)\n",
      " |      Returns size in memory, in bytes.\n",
      " |\n",
      " |  __sub__(self, value, /)\n",
      " |      Return self-value.\n",
      " |\n",
      " |  __truediv__(self, value, /)\n",
      " |      Return self/value.\n",
      " |\n",
      " |  __trunc__(...)\n",
      " |      Truncating an Integral returns itself.\n",
      " |\n",
      " |  __xor__(self, value, /)\n",
      " |      Return self^value.\n",
      " |\n",
      " |  as_integer_ratio(self, /)\n",
      " |      Return a pair of integers, whose ratio is equal to the original int.\n",
      " |\n",
      " |      The ratio is in lowest terms and has a positive denominator.\n",
      " |\n",
      " |      >>> (10).as_integer_ratio()\n",
      " |      (10, 1)\n",
      " |      >>> (-10).as_integer_ratio()\n",
      " |      (-10, 1)\n",
      " |      >>> (0).as_integer_ratio()\n",
      " |      (0, 1)\n",
      " |\n",
      " |  bit_count(self, /)\n",
      " |      Number of ones in the binary representation of the absolute value of self.\n",
      " |\n",
      " |      Also known as the population count.\n",
      " |\n",
      " |      >>> bin(13)\n",
      " |      '0b1101'\n",
      " |      >>> (13).bit_count()\n",
      " |      3\n",
      " |\n",
      " |  bit_length(self, /)\n",
      " |      Number of bits necessary to represent self in binary.\n",
      " |\n",
      " |      >>> bin(37)\n",
      " |      '0b100101'\n",
      " |      >>> (37).bit_length()\n",
      " |      6\n",
      " |\n",
      " |  conjugate(...)\n",
      " |      Returns self, the complex conjugate of any int.\n",
      " |\n",
      " |  is_integer(self, /)\n",
      " |      Returns True. Exists for duck type compatibility with float.is_integer.\n",
      " |\n",
      " |  to_bytes(self, /, length=1, byteorder='big', *, signed=False)\n",
      " |      Return an array of bytes representing an integer.\n",
      " |\n",
      " |      length\n",
      " |        Length of bytes object to use.  An OverflowError is raised if the\n",
      " |        integer is not representable with the given number of bytes.  Default\n",
      " |        is length 1.\n",
      " |      byteorder\n",
      " |        The byte order used to represent the integer.  If byteorder is 'big',\n",
      " |        the most significant byte is at the beginning of the byte array.  If\n",
      " |        byteorder is 'little', the most significant byte is at the end of the\n",
      " |        byte array.  To request the native byte order of the host system, use\n",
      " |        `sys.byteorder' as the byte order value.  Default is to use 'big'.\n",
      " |      signed\n",
      " |        Determines whether two's complement is used to represent the integer.\n",
      " |        If signed is False and a negative integer is given, an OverflowError\n",
      " |        is raised.\n",
      " |\n",
      " |  ----------------------------------------------------------------------\n",
      " |  Class methods defined here:\n",
      " |\n",
      " |  from_bytes(bytes, byteorder='big', *, signed=False)\n",
      " |      Return the integer represented by the given array of bytes.\n",
      " |\n",
      " |      bytes\n",
      " |        Holds the array of bytes to convert.  The argument must either\n",
      " |        support the buffer protocol or be an iterable object producing bytes.\n",
      " |        Bytes and bytearray are examples of built-in objects that support the\n",
      " |        buffer protocol.\n",
      " |      byteorder\n",
      " |        The byte order used to represent the integer.  If byteorder is 'big',\n",
      " |        the most significant byte is at the beginning of the byte array.  If\n",
      " |        byteorder is 'little', the most significant byte is at the end of the\n",
      " |        byte array.  To request the native byte order of the host system, use\n",
      " |        `sys.byteorder' as the byte order value.  Default is to use 'big'.\n",
      " |      signed\n",
      " |        Indicates whether two's complement is used to represent the integer.\n",
      " |\n",
      " |  ----------------------------------------------------------------------\n",
      " |  Static methods defined here:\n",
      " |\n",
      " |  __new__(*args, **kwargs)\n",
      " |      Create and return a new object.  See help(type) for accurate signature.\n",
      " |\n",
      " |  ----------------------------------------------------------------------\n",
      " |  Data descriptors defined here:\n",
      " |\n",
      " |  denominator\n",
      " |      the denominator of a rational number in lowest terms\n",
      " |\n",
      " |  imag\n",
      " |      the imaginary part of a complex number\n",
      " |\n",
      " |  numerator\n",
      " |      the numerator of a rational number in lowest terms\n",
      " |\n",
      " |  real\n",
      " |      the real part of a complex number\n",
      "\n"
     ]
    }
   ],
   "source": [
    "help(a)"
   ]
  },
  {
   "cell_type": "code",
   "execution_count": 6,
   "metadata": {},
   "outputs": [
    {
     "name": "stdout",
     "output_type": "stream",
     "text": [
      "El valor de la temperatura es 30ºC\n"
     ]
    }
   ],
   "source": [
    "temperatura = 30\n",
    "print(f'El valor de la temperatura es {temperatura}ºC.')"
   ]
  },
  {
   "cell_type": "code",
   "execution_count": 7,
   "metadata": {},
   "outputs": [
    {
     "name": "stdout",
     "output_type": "stream",
     "text": [
      "El valor de la temperatura es 35ºC.\n"
     ]
    }
   ],
   "source": [
    "#La funcion input queda esperando a que alguien ingrese un texto, o un valor\n",
    "temperatura = input(\"Por favor ingrese el valor de la temperatura: \")\n",
    "print(f'El valor de la temperatura es {temperatura}ºC.')\n",
    "#Considerar que el valor de traido es un string"
   ]
  },
  {
   "cell_type": "markdown",
   "metadata": {},
   "source": [
    "<h2>Funciones</h2>\n",
    "<ul>\n",
    "    <li>len()</li>\n",
    "    <li>max()</li>\n",
    "    <li>min()</li>\n",
    "    <li>abs()</li>\n",
    "    <li>round()</li>\n",
    "    <li>int(), float()</li>\n",
    "</ul>"
   ]
  },
  {
   "cell_type": "code",
   "execution_count": 10,
   "metadata": {},
   "outputs": [
    {
     "name": "stdout",
     "output_type": "stream",
     "text": [
      "El texto tiene 10 caracteres\n",
      "El número 3.14 redondeado es 3\n"
     ]
    }
   ],
   "source": [
    "texto = \"Hola mundo\"\n",
    "print(f'El texto tiene {len(texto)} caracteres')\n",
    "\n",
    "numero = 3.14\n",
    "print(f'El número {numero} redondeado es {round(numero)}')"
   ]
  },
  {
   "cell_type": "code",
   "execution_count": 13,
   "metadata": {},
   "outputs": [
    {
     "name": "stdout",
     "output_type": "stream",
     "text": [
      "La suma de 10 y el absoluto de -4 es 14 \n"
     ]
    }
   ],
   "source": [
    "numUno = 10\n",
    "numDos = int(input(\"Ingrese un numero\"))\n",
    "\n",
    "print(f'La suma de {numUno} y el absoluto de {numDos} es {numUno + abs(numDos)} ')\n"
   ]
  }
 ],
 "metadata": {
  "kernelspec": {
   "display_name": "Python 3",
   "language": "python",
   "name": "python3"
  },
  "language_info": {
   "codemirror_mode": {
    "name": "ipython",
    "version": 3
   },
   "file_extension": ".py",
   "mimetype": "text/x-python",
   "name": "python",
   "nbconvert_exporter": "python",
   "pygments_lexer": "ipython3",
   "version": "3.11.9"
  }
 },
 "nbformat": 4,
 "nbformat_minor": 2
}
