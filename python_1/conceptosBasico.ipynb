{
 "cells": [
  {
   "cell_type": "markdown",
   "metadata": {},
   "source": [
    "<h2>Comentarios</h2>\n",
    "\n",
    "<p>Hay dos tipos principales de comentarios: los comentarios de una sola línea y los comentarios de múltiples líneas. Los comentarios se utilizan para explicar y documentar el código, lo que facilita su comprensión y mantenimiento. </p>"
   ]
  },
  {
   "cell_type": "code",
   "execution_count": 3,
   "metadata": {},
   "outputs": [
    {
     "name": "stdout",
     "output_type": "stream",
     "text": [
      "Hola, mundo\n"
     ]
    }
   ],
   "source": [
    "# Este es un comentario de una sola línea\n",
    "\n",
    "\"\"\"\n",
    "Este es un comentario de múltiples líneas.\n",
    "Se puede utilizar para explicar más detalladamente\n",
    "el funcionamiento de una sección de código.\n",
    "\"\"\"\n",
    "\n",
    "\n",
    "print(\"Hola, mundo\")  # Este es otro comentario de una sola línea"
   ]
  },
  {
   "cell_type": "markdown",
   "metadata": {},
   "source": [
    "<h2>Variables</h2>\n",
    "<p>una variable es un contenedor para almacenar datos. Las variables permiten que los programas almacenen y manipulen información de manera dinámica. </p>\n",
    "<p>Python soporta varios tipos de datos que se pueden asignar a las variables. Algunos de los más comunes incluyen:</p>"
   ]
  },
  {
   "cell_type": "code",
   "execution_count": 4,
   "metadata": {},
   "outputs": [],
   "source": [
    "# Entero (int)\n",
    "edad = 25  # Edad de una persona\n",
    "\n",
    "# Flotante (float)\n",
    "precio = 19.99  # Precio de un artículo\n",
    "\n",
    "# Cadena de texto (str)\n",
    "nombre = \"IngeBOT\"  # Nombre del asistente\n",
    "\n",
    "# Booleano (bool)\n",
    "es_activo = True  # Indicador de estado\n",
    "\n",
    "# Lista (list)\n",
    "numeros = [1, 2, 3, 4, 5]  # Lista de números enteros\n",
    "\n",
    "# Tupla (tuple)\n",
    "coordenadas = (10.0, 20.0)  # Coordenadas geográficas\n",
    "\n",
    "# Diccionario (dict)\n",
    "usuario = {\"nombre\": \"IngeBOT\", \"edad\": 1}  # Información de un usuario\n",
    "\n",
    "# Conjunto (set)\n",
    "frutas = {\"manzana\", \"banana\", \"cereza\"}  # Conjunto de frutas"
   ]
  },
  {
   "cell_type": "code",
   "execution_count": 6,
   "metadata": {},
   "outputs": [
    {
     "name": "stdout",
     "output_type": "stream",
     "text": [
      "[1, 2, 3, 4, 5]\n"
     ]
    }
   ],
   "source": [
    "print(numeros)"
   ]
  },
  {
   "cell_type": "code",
   "execution_count": 7,
   "metadata": {},
   "outputs": [
    {
     "name": "stdout",
     "output_type": "stream",
     "text": [
      "<class 'list'>\n"
     ]
    }
   ],
   "source": [
    "#Verificacion de tipos de datos\n",
    "\n",
    "print(type(numeros))"
   ]
  },
  {
   "cell_type": "code",
   "execution_count": 8,
   "metadata": {},
   "outputs": [
    {
     "name": "stdout",
     "output_type": "stream",
     "text": [
      "\n",
      "aqui hay algo multilinea\n",
      "vamos a poner a prueba\n",
      " \n"
     ]
    }
   ],
   "source": [
    "variableMultiline = '''\n",
    "aqui hay algo multilinea\n",
    "vamos a poner a prueba\n",
    " '''\n",
    "\n",
    "print(variableMultiline)"
   ]
  },
  {
   "cell_type": "code",
   "execution_count": 9,
   "metadata": {},
   "outputs": [
    {
     "name": "stdout",
     "output_type": "stream",
     "text": [
      "<class 'str'>\n"
     ]
    }
   ],
   "source": [
    "print(type(variableMultiline))"
   ]
  },
  {
   "cell_type": "markdown",
   "metadata": {},
   "source": [
    "<h2>Operadores aritméticos</h2>\n",
    "\n",
    "<p>Secuencia de operación:</p>\n",
    "\n",
    "<ol>\n",
    "    <li>Paréntesis</li>\n",
    "    <li>Exponente</li>\n",
    "    <li>Multiplicacion / División</li>\n",
    "    <li>Adiccion / Sustracción </li>\n",
    "</ol>"
   ]
  },
  {
   "cell_type": "code",
   "execution_count": 13,
   "metadata": {},
   "outputs": [
    {
     "name": "stdout",
     "output_type": "stream",
     "text": [
      "La suma de 4 y 2 es: 6\n",
      "La resta de 4 y 2 es: 2\n",
      "La multiplicacion de 4 y 2 es: 8\n",
      "La división de 4 y 2 es: 2.0\n",
      "La división de 4 y 2 es: 2\n",
      "El resto de 4 y 2 es: 0\n"
     ]
    }
   ],
   "source": [
    "\n",
    "varUno = 4\n",
    "varDos = 2\n",
    "\n",
    "#suma\n",
    "resultado = varUno + varDos\n",
    "print(f'La suma de {varUno} y {varDos} es: {resultado}')\n",
    "\n",
    "#resta\n",
    "resultado = varUno - varDos\n",
    "print(f'La resta de {varUno} y {varDos} es: {resultado}')\n",
    "\n",
    "#multiplicacion\n",
    "resultado = varUno * varDos\n",
    "print(f'La multiplicacion de {varUno} y {varDos} es: {resultado}')\n",
    "\n",
    "#división\n",
    "resultado = varUno / varDos\n",
    "print(f'La división de {varUno} y {varDos} es: {resultado}')\n",
    "\n",
    "#division truncada (Elimina parte fraccionaria)\n",
    "resultado = varUno // varDos\n",
    "print(f'La división de {varUno} y {varDos} es: {resultado}')\n",
    "\n",
    "#resto\n",
    "resultado = varUno % varDos\n",
    "print(f'El resto de {varUno} y {varDos} es: {resultado}')\n",
    "\n"
   ]
  },
  {
   "cell_type": "markdown",
   "metadata": {},
   "source": [
    "<h2>Ejercicio:</h2>\n",
    "\n",
    "<p>Convertir una temperatura de grados centigrados a Fahrengeit y a Kelvin</p>"
   ]
  },
  {
   "cell_type": "code",
   "execution_count": 22,
   "metadata": {},
   "outputs": [
    {
     "name": "stdout",
     "output_type": "stream",
     "text": [
      "32.5°C equivale a 90.5°F o 305.65°K\n"
     ]
    }
   ],
   "source": [
    "#Para este ejercicio supondremos que el usuario ingresará un numero\n",
    "temp_c = input(\"Ingrese una temperatura\")\n",
    "temp_c = float(temp_c)\n",
    "temp_f = temp_c * 9/5 +32\n",
    "temp_k = (temp_c + 273.15)\n",
    "\n",
    "\n",
    "print(f'{temp_c}°C equivale a {temp_f}°F o {temp_k}°K')\n"
   ]
  }
 ],
 "metadata": {
  "kernelspec": {
   "display_name": "Python 3",
   "language": "python",
   "name": "python3"
  },
  "language_info": {
   "codemirror_mode": {
    "name": "ipython",
    "version": 3
   },
   "file_extension": ".py",
   "mimetype": "text/x-python",
   "name": "python",
   "nbconvert_exporter": "python",
   "pygments_lexer": "ipython3",
   "version": "3.11.9"
  }
 },
 "nbformat": 4,
 "nbformat_minor": 2
}
