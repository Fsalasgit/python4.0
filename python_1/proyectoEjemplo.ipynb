{
 "cells": [
  {
   "cell_type": "markdown",
   "metadata": {},
   "source": [
    "<h2>Carga de agua en un tanque</h2>"
   ]
  },
  {
   "cell_type": "code",
   "execution_count": 15,
   "metadata": {},
   "outputs": [],
   "source": [
    "class Tanque:\n",
    "    def __init__(self, capacidad):\n",
    "        self.capacidad = capacidad\n",
    "\n",
    "        self.cargaActual = 0\n",
    "        self.caudal = 0 #Esperamos en litros por segundo\n",
    "\n",
    "    def cargar(self):\n",
    "        self.caudal = 20 \n",
    "\n",
    "    def vaciar(self):\n",
    "        self.caudal = -20\n",
    "\n",
    "    def cerrarValvulas(self):\n",
    "        self.caudal = 0\n",
    "\n",
    "    def update(self):\n",
    "        if self.cargaActual < self.capacidad and self.cargaActual >= 0:\n",
    "            self.cargaActual += self.caudal\n",
    "            \n",
    "\n",
    "\n"
   ]
  },
  {
   "cell_type": "code",
   "execution_count": 16,
   "metadata": {},
   "outputs": [
    {
     "data": {
      "text/plain": [
       "0"
      ]
     },
     "execution_count": 16,
     "metadata": {},
     "output_type": "execute_result"
    }
   ],
   "source": [
    "tk1 = Tanque(2000)\n",
    "tk1.cargaActual"
   ]
  },
  {
   "cell_type": "code",
   "execution_count": 17,
   "metadata": {},
   "outputs": [
    {
     "name": "stdout",
     "output_type": "stream",
     "text": [
      "Tanque cargando, volumen actual 20\n",
      "Tanque cargando, volumen actual 40\n",
      "Tanque cargando, volumen actual 60\n",
      "Tanque cargando, volumen actual 80\n",
      "Tanque cargando, volumen actual 100\n",
      "Tanque cargando, volumen actual 120\n",
      "Tanque cargando, volumen actual 140\n",
      "Tanque cargando, volumen actual 160\n",
      "Tanque cargando, volumen actual 180\n",
      "Tanque cargando, volumen actual 200\n",
      "El tanque llegó a su capacidad máxima\n"
     ]
    }
   ],
   "source": [
    "import time\n",
    "tk1.cargar()\n",
    "try:\n",
    "    while True:\n",
    "        tk1.update()\n",
    "        time.sleep(1)\n",
    "        print(f'Tanque cargando, volumen actual {tk1.cargaActual}')\n",
    "        if tk1.cargaActual >= 200:\n",
    "            tk1.cerrarValvulas()\n",
    "            print(f'El tanque llegó a su capacidad máxima')\n",
    "            break\n",
    "except KeyboardInterrupt:\n",
    "    print(\"Simulacion finalizada\")"
   ]
  },
  {
   "cell_type": "code",
   "execution_count": 18,
   "metadata": {},
   "outputs": [
    {
     "data": {
      "text/plain": [
       "200"
      ]
     },
     "execution_count": 18,
     "metadata": {},
     "output_type": "execute_result"
    }
   ],
   "source": [
    "tk1.cargaActual"
   ]
  }
 ],
 "metadata": {
  "kernelspec": {
   "display_name": "Python 3",
   "language": "python",
   "name": "python3"
  },
  "language_info": {
   "codemirror_mode": {
    "name": "ipython",
    "version": 3
   },
   "file_extension": ".py",
   "mimetype": "text/x-python",
   "name": "python",
   "nbconvert_exporter": "python",
   "pygments_lexer": "ipython3",
   "version": "3.12.4"
  }
 },
 "nbformat": 4,
 "nbformat_minor": 2
}
