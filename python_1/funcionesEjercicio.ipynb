{
 "cells": [
  {
   "cell_type": "markdown",
   "metadata": {},
   "source": [
    "Se desean crear 2 funciones para analizar rápido unos sensores\n",
    "\n",
    "Función 1: Hacer una función que tome, de una lista de valores, las temperaturas registadas en un día. De esa lista, debe retornar:\n",
    "\n",
    "Promedio de temperaturas\n",
    "La temperatura más baja\n",
    "La temperatura más alta\n",
    "Cantidad de temperaturas menores a 22°c\n",
    "\n",
    "Función 2: Hacer otra función que imprima los valores en un texto legible para el operador"
   ]
  },
  {
   "cell_type": "code",
   "execution_count": 23,
   "metadata": {},
   "outputs": [],
   "source": [
    "def analisisPrint(diccionario):\n",
    "    for medida,valor in diccionario.items():\n",
    "        print(f'{medida}: {valor}')\n",
    "    return\n",
    "\n",
    "def analisisTemperatura(lista):\n",
    "    analisis = {\n",
    "        \"Promedio temperaturas\": round(sum(lista) / len(lista),1),\n",
    "        \"Temperatura mínima\": min(lista),\n",
    "        \"Temperatura Máxima\": max(lista),\n",
    "        \"Temperaturas menores a 22ºC\": [temperatura for temperatura in lista if temperatura < 22.0]\n",
    "    }\n",
    "    analisisPrint(analisis)"
   ]
  },
  {
   "cell_type": "code",
   "execution_count": 22,
   "metadata": {},
   "outputs": [],
   "source": [
    "temperaturas1=[27.1, 22.3, 26.8, 23.5, 22.7, 15.3, 26.6, 16.9, 18.1, 24.7, 23.8, 18.4, 26.1, 27.5, 27.3, 21.9, 25.4, 25.1, 20.4, 16.2, 27.5, 22.7, 25.9, 21.2]\n",
    "temperaturas2=[25.4, 21.5, 27.3, 25.5, 20.2, 26.6, 16.1, 27.7, 26.4, 24.0, 22.6, 19.4, 27.0, 18.3, 25.0, 24.3, 25.6, 27.1, 15.6, 27.1, 26.6, 22.7, 20.4, 23.3]\n",
    "temperaturas3=[16.4, 20.5, 23.5, 17.3, 26.2, 26.2, 22.9, 21.2, 24.2, 26.0, 18.7, 27.5, 25.0, 22.7, 21.7, 22.7, 23.3, 25.0, 26.7, 18.7, 19.6, 23.9, 20.0, 17.2]"
   ]
  },
  {
   "cell_type": "code",
   "execution_count": 24,
   "metadata": {},
   "outputs": [
    {
     "name": "stdout",
     "output_type": "stream",
     "text": [
      "Promedio temperaturas: 22.4\n",
      "Temperatura mínima: 16.4\n",
      "Temperatura Máxima: 27.5\n",
      "Temperaturas menores a 22ºC: [16.4, 20.5, 17.3, 21.2, 18.7, 21.7, 18.7, 19.6, 20.0, 17.2]\n"
     ]
    }
   ],
   "source": [
    "analisisTemperatura(temperaturas3)"
   ]
  },
  {
   "cell_type": "markdown",
   "metadata": {},
   "source": [
    "Ejercicio 2: Escalador de señales analógicas\n",
    "Función muy utilizada en la industria para convertir valores de sensores en algo “legible”. Usualmente los sensores tienen un rango de funcionamiento, y muestran valores que a veces no corresponden con la magnitud real, a menos que se los escale o mapee. Guardenla muy bien, ya que les servirá para muchas cosas. \n",
    "\n",
    "Escribe una función llamada “escalarValores” que reciba un valor analógico como argumento y lo escale linealmente según un rango de entrada y un rango de salida específicos. El objetivo es transformar el valor analógico desde el rango de entrada al rango de salida.\n",
    "\n",
    "EJ: Si la lectura del sensor va de 0 a 1000, y la magnitud leída corresponde a 0 a 5 cm, al ingresar 0 la salida de la función muestra 0, al ingresar 1000 la salida muestra 5, al ingresar 500 la salida muestra 2.5… y así.\n",
    "\n",
    "valor_analogico: El valor analógico a escalar.\n",
    "minimo_ing: El valor mínimo del rango de entrada. Default = 0\n",
    "maximo_ing: El valor máximo del rango de entrada. Default = 32767\n",
    "minimo: El valor mínimo del rango de salida. Default = 0.0\n",
    "maximo: El valor máximo del rango de salida. Default = 100.0"
   ]
  },
  {
   "cell_type": "code",
   "execution_count": 39,
   "metadata": {},
   "outputs": [
    {
     "name": "stdout",
     "output_type": "stream",
     "text": [
      "50.0\n",
      "500.0\n"
     ]
    }
   ],
   "source": [
    "#Esta funcion sirve para el ejemploy hasta mas entendible, pero pierde flexibilidad con la escala de salida.\n",
    "def escalarValores(valor_analogico, escalaMin = 0, escalaMax = 32767):\n",
    "    return (valor_analogico-escalaMin)/(escalaMax-escalaMin)*100\n",
    "\n",
    "def escalarValoresFlex(valor_analogico,escalaMin = 0, escalaMAx = 32767,minReal = 0, maxReal = 100):\n",
    "    return (valor_analogico - escalaMin)/(escalaMAx-escalaMin)*(maxReal-minReal)+minReal\n",
    "\n",
    "print(escalarValores(32767/2))\n",
    "maximo = 500\n",
    "print(escalarValoresFlex(maximo/2,escalaMAx=maximo, maxReal = 1000))"
   ]
  },
  {
   "cell_type": "markdown",
   "metadata": {},
   "source": [
    "Ejercicio 3: Control de Stock\n",
    "Verificar si los productos tienen cantidades inferiores al punto de reposición y mostrar los productos con cantidades bajas."
   ]
  },
  {
   "cell_type": "code",
   "execution_count": 63,
   "metadata": {},
   "outputs": [],
   "source": [
    "def verificarStock(Stock, umbral=10):\n",
    "    bajoStock = [[producto, cantidad] for producto, cantidad in Stock.items() if cantidad < umbral]\n",
    "    print(\"Stock crítico:\")\n",
    "    for producto, valor in bajoStock:\n",
    "        print(f'\"{producto}\", stock actual: {valor}')"
   ]
  },
  {
   "cell_type": "code",
   "execution_count": 65,
   "metadata": {},
   "outputs": [
    {
     "name": "stdout",
     "output_type": "stream",
     "text": [
      "Stock crítico:\n",
      "\"producto2\", stock actual: 7\n",
      "\"producto4\", stock actual: 5\n"
     ]
    }
   ],
   "source": [
    "productos_stock = {'producto1': 15, 'producto2': 7, 'producto3': 11, 'producto4': 5}\n",
    "umbral = 10\n",
    "\n"
   ]
  },
  {
   "cell_type": "markdown",
   "metadata": {},
   "source": [
    "Ejercicio 4: Monitoreo de Sensores\n",
    "Verificar si las temperaturas registradas superan un umbral predefinido y mostrar las temperaturas anormales encontradas.\n",
    "\n",
    "temperaturas = [28, 29, 31, 27, 33, 29, 30, 31, 32, 28]\n",
    "\n",
    "Umbral: 30 grados Celsius\n",
    "ATENCIÓN: En lugar de utilizar un bucle for para recorrer la lista de temperaturas y una instrucción if para verificar si cada temperatura supera el umbral, combinar absolutamente todo usando comprensión de listas, creando una nueva lista llamada temperaturas_anormales para almacenar las temperaturas que superen el umbral.\n",
    "Al finalizar el bucle, imprimir las temperaturas anormales encontradas."
   ]
  },
  {
   "cell_type": "code",
   "execution_count": 78,
   "metadata": {},
   "outputs": [],
   "source": [
    "def verificarTemperatura(lista, umbral = 30):\n",
    "    temperaturasAnormales = [(indice, temperatura) for indice , temperatura in enumerate(lista) if temperatura > 30]\n",
    "    for indice, temp in temperaturasAnormales:\n",
    "        print(f\"Elemento: {indice+1}, Temperatura anormal: {temp}\")"
   ]
  },
  {
   "cell_type": "code",
   "execution_count": 79,
   "metadata": {},
   "outputs": [
    {
     "name": "stdout",
     "output_type": "stream",
     "text": [
      "Elemento: 3, Temperatura anormal: 31\n",
      "Elemento: 5, Temperatura anormal: 33\n",
      "Elemento: 8, Temperatura anormal: 31\n",
      "Elemento: 9, Temperatura anormal: 32\n"
     ]
    }
   ],
   "source": [
    "temperaturas = [28, 29, 31, 27, 33, 29, 30, 31, 32, 28]\n",
    "umbral = 30\n",
    "\n",
    "verificarTemperatura(temperaturas, umbral)"
   ]
  }
 ],
 "metadata": {
  "kernelspec": {
   "display_name": "Python 3",
   "language": "python",
   "name": "python3"
  },
  "language_info": {
   "codemirror_mode": {
    "name": "ipython",
    "version": 3
   },
   "file_extension": ".py",
   "mimetype": "text/x-python",
   "name": "python",
   "nbconvert_exporter": "python",
   "pygments_lexer": "ipython3",
   "version": "3.12.4"
  }
 },
 "nbformat": 4,
 "nbformat_minor": 2
}
